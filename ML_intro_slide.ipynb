{
 "cells": [
  {
   "cell_type": "markdown",
   "metadata": {},
   "source": [
    "# Artificial Intelligence\n",
    "  * ## Robotics\n",
    "      * ### <span style=\"color:blue\">Path Planning (e.g. A*)</span>\n",
    "      * #### Computer Vision\n",
    "      ...\n",
    " \n",
    "  * ## Machine Learning\n",
    "    * ### <span style=\"color:blue\">*Esemble Learning*</span>  \n",
    "    * #### Bayesian Inference\n",
    "    * #### Reinforcement Learning  \n",
    "    * #### Generic Algorithms \n",
    "      ...  \n",
    "    * ### Artificial Neural Networks\n",
    "        * #### <span style=\"color:green\">*The Perceptron*</span>\n",
    "        * #### <span style=\"color:green\">*Feed forward Neural Networks*</span>\n",
    "        * ##### <span style=\"color:orange\">Deep Learning</span>\n",
    "            * Convolutional Neural Networks\n",
    "            * Recurrent Neural Networks\n",
    "            \n",
    "              ...\n",
    "              \n",
    "          ...  \n",
    "          \n",
    "      ...  \n",
    "          \n",
    "    ...\n",
    "            \n",
    "<span style=\"color:blue\">■</span> Show quick example  \n",
    "<span style=\"color:green\">■</span> Main focus  \n",
    "<span style=\"color:orange\">■</span> Maybe future topic"
   ]
  }
 ],
 "metadata": {
  "kernelspec": {
   "display_name": "Python 3",
   "language": "python",
   "name": "python3"
  },
  "language_info": {
   "codemirror_mode": {
    "name": "ipython",
    "version": 3
   },
   "file_extension": ".py",
   "mimetype": "text/x-python",
   "name": "python",
   "nbconvert_exporter": "python",
   "pygments_lexer": "ipython3",
   "version": "3.8.5"
  }
 },
 "nbformat": 4,
 "nbformat_minor": 4
}
