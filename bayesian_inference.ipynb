{
 "cells": [
  {
   "cell_type": "code",
   "execution_count": 1,
   "metadata": {},
   "outputs": [],
   "source": [
    "dark_theme = False # Requires dark theme browser, e.g. Dark Reader extension on Chrome"
   ]
  },
  {
   "cell_type": "code",
   "execution_count": 4,
   "metadata": {
    "slideshow": {
     "slide_type": "skip"
    }
   },
   "outputs": [],
   "source": [
    "from IPython.display import Latex, HTML, Markdown\n",
    "\n",
    "def hide_input_code():   \n",
    "    from IPython import display\n",
    "    import binascii\n",
    "    import os\n",
    "    uid = binascii.hexlify(os.urandom(8)).decode()    \n",
    "    html = \"\"\"<div id=\"%s\"></div>\n",
    "    <script type=\"text/javascript\">\n",
    "        $(function(){\n",
    "            var p = $(\"#%s\");\n",
    "            if (p.length==0) return;\n",
    "            while (!p.hasClass(\"cell\")) {\n",
    "                p=p.parent();\n",
    "                if (p.prop(\"tagName\") ==\"body\") return;\n",
    "            }\n",
    "            var cell = p;\n",
    "            cell.find(\".input\").addClass(\"hide-in-slideshow\")\n",
    "        });\n",
    "    </script>\"\"\" % (uid, uid)\n",
    "    display.display_html(html, raw=True)\n",
    "\n"
   ]
  },
  {
   "cell_type": "code",
   "execution_count": 5,
   "metadata": {
    "slideshow": {
     "slide_type": "skip"
    }
   },
   "outputs": [
    {
     "data": {
      "text/html": [
       "<style>\n",
       " .container.slides .celltoolbar, .container.slides .hide-in-slideshow {\n",
       "    display: None ! important;\n",
       "}\n",
       "</style>\n"
      ],
      "text/plain": [
       "<IPython.core.display.HTML object>"
      ]
     },
     "metadata": {},
     "output_type": "display_data"
    }
   ],
   "source": [
    "%%html\n",
    "<style>\n",
    " .container.slides .celltoolbar, .container.slides .hide-in-slideshow {\n",
    "    display: None ! important;\n",
    "}\n",
    "</style>"
   ]
  },
  {
   "cell_type": "code",
   "execution_count": 6,
   "metadata": {},
   "outputs": [
    {
     "data": {
      "application/javascript": [
       " MathJax.Hub.Config({\n",
       "    TeX: { equationNumbers: { autoNumber: \"AMS\" } }\n",
       "});\n",
       "MathJax.Hub.Queue(\n",
       "    [\"resetEquationNumbers\", MathJax.InputJax.TeX],\n",
       "    [\"PreProcess\", MathJax.Hub],\n",
       "    [\"Reprocess\", MathJax.Hub]\n",
       ");\n"
      ],
      "text/plain": [
       "<IPython.core.display.Javascript object>"
      ]
     },
     "metadata": {},
     "output_type": "display_data"
    }
   ],
   "source": [
    "%%javascript\n",
    " MathJax.Hub.Config({\n",
    "    TeX: { equationNumbers: { autoNumber: \"AMS\" } }\n",
    "});\n",
    "MathJax.Hub.Queue(\n",
    "    [\"resetEquationNumbers\", MathJax.InputJax.TeX],\n",
    "    [\"PreProcess\", MathJax.Hub],\n",
    "    [\"Reprocess\", MathJax.Hub]\n",
    ");"
   ]
  },
  {
   "cell_type": "code",
   "execution_count": 7,
   "metadata": {
    "slideshow": {
     "slide_type": "skip"
    }
   },
   "outputs": [
    {
     "data": {
      "text/markdown": [
       "\n",
       "<script type=\"text/x-mathjax-config\">\n",
       "MathJax.Hub.Config({\n",
       "tex2jax: {\n",
       "inlineMath: [['$','$'], ['\\(','\\)']],\n",
       "processEscapes: true},\n",
       "jax: [\"input/TeX\",\"input/MathML\",\"input/AsciiMath\",\"output/CommonHTML\"],\n",
       "extensions: [\"tex2jax.js\",\"mml2jax.js\",\"asciimath2jax.js\",\"MathMenu.js\",\"MathZoom.js\",\"AssistiveMML.js\", \"[Contrib]/a11y/accessibility-menu.js\"],\n",
       "TeX: {\n",
       "extensions: [\"AMSmath.js\",\"AMSsymbols.js\",\"noErrors.js\",\"noUndefined.js\"],\n",
       "equationNumbers: {\n",
       "autoNumber: \"AMS\"\n",
       "}\n",
       "}\n",
       "});\n",
       "</script>\n"
      ],
      "text/plain": [
       "<IPython.core.display.Markdown object>"
      ]
     },
     "execution_count": 7,
     "metadata": {},
     "output_type": "execute_result"
    }
   ],
   "source": [
    "Markdown('''\n",
    "<script type=\"text/x-mathjax-config\">\n",
    "MathJax.Hub.Config({\n",
    "tex2jax: {\n",
    "inlineMath: [['$','$'], ['\\\\(','\\\\)']],\n",
    "processEscapes: true},\n",
    "jax: [\"input/TeX\",\"input/MathML\",\"input/AsciiMath\",\"output/CommonHTML\"],\n",
    "extensions: [\"tex2jax.js\",\"mml2jax.js\",\"asciimath2jax.js\",\"MathMenu.js\",\"MathZoom.js\",\"AssistiveMML.js\", \"[Contrib]/a11y/accessibility-menu.js\"],\n",
    "TeX: {\n",
    "extensions: [\"AMSmath.js\",\"AMSsymbols.js\",\"noErrors.js\",\"noUndefined.js\"],\n",
    "equationNumbers: {\n",
    "autoNumber: \"AMS\"\n",
    "}\n",
    "}\n",
    "});\n",
    "</script>\n",
    "''')"
   ]
  },
  {
   "cell_type": "markdown",
   "metadata": {
    "cell_style": "center",
    "slideshow": {
     "slide_type": "slide"
    }
   },
   "source": [
    "Logical AND Problem"
   ]
  },
  {
   "cell_type": "code",
   "execution_count": 74,
   "metadata": {
    "cell_style": "center",
    "slideshow": {
     "slide_type": "skip"
    }
   },
   "outputs": [
    {
     "data": {
      "text/html": [
       "<div id=\"28146550e948025d\"></div>\n",
       "    <script type=\"text/javascript\">\n",
       "        $(function(){\n",
       "            var p = $(\"#28146550e948025d\");\n",
       "            if (p.length==0) return;\n",
       "            while (!p.hasClass(\"cell\")) {\n",
       "                p=p.parent();\n",
       "                if (p.prop(\"tagName\") ==\"body\") return;\n",
       "            }\n",
       "            var cell = p;\n",
       "            cell.find(\".input\").addClass(\"hide-in-slideshow\")\n",
       "        });\n",
       "    </script>"
      ]
     },
     "metadata": {},
     "output_type": "display_data"
    }
   ],
   "source": [
    "from IPython.display import Latex, HTML, Markdown\n",
    "import matplotlib.pyplot as plt\n",
    "from matplotlib.ticker import MaxNLocator\n",
    "import numpy as np\n",
    "%matplotlib inline\n",
    "\n",
    "hide_input_code()\n",
    "\n",
    "def get_figure(size=(8, 8)):\n",
    "    fig = plt.figure(figsize=size)\n",
    "    ax = fig.gca()\n",
    "    ax.set_axisbelow(True)  \n",
    "    plt.grid(linewidth=.2 if dark_theme else .5)\n",
    " \n",
    "    if dark_theme:\n",
    "        ax.patch.set_alpha(0.)\n",
    "        label_color = 'white'\n",
    "        ax.set_title(ax.get_title(), color=label_color)\n",
    "\n",
    "        [ax.spines[spine].set_color(label_color) for spine in ax.spines]\n",
    "        ax.xaxis.label.set_color(label_color)\n",
    "        ax.yaxis.label.set_color(label_color)\n",
    "        ax.tick_params(axis='x', colors=label_color)\n",
    "        ax.tick_params(axis='y', colors=label_color)\n",
    "\n",
    "    \n",
    "    return ax\n",
    "    \n",
    "\n",
    "def plot_problem(ax, data, targets, title=''):\n",
    "    for sample_index in range(len(data)):\n",
    "        sample_input = data[sample_index].astype(int)\n",
    "        ground_truth = targets[sample_index]\n",
    "\n",
    "        if ground_truth: # If output is True\n",
    "            sample_marker = 'P'\n",
    "            sample_color = 'limegreen'\n",
    "        else:\n",
    "            sample_marker = 'X'\n",
    "            sample_color = 'r'\n",
    "            \n",
    "        plt.plot(sample_input[0],\n",
    "                sample_input[1],\n",
    "                sample_marker,\n",
    "                color=sample_color,\n",
    "                markersize=13,\n",
    "                label=ground_truth)\n",
    "    plt.axis('equal')\n",
    "    limits = [-.25, 1.25, -.25, 1.25]\n",
    "   \n",
    "    plt.xlabel(r'$x_1$')\n",
    "    plt.ylabel(r'$x_2$')\n",
    "    handles, labels = ax.get_legend_handles_labels()\n",
    "    legends = [(h, l) for i, (h, l) in enumerate(zip(handles, labels)) if l not in labels[:i]]\n",
    "    ax.legend(*zip(*legends))\n",
    "    plt.title(title)\n",
    "    \n",
    "    ticks = np.arange(limits[0], 2*limits[1], .25)\n",
    "    tick_labels = [str(tick) for tick in ticks]\n",
    "    tick_labels[np.where(ticks == 0)[0][0]] += '\\n(False)'\n",
    "    tick_labels[np.where(ticks == 1)[0][0]] += '\\n(True)'\n",
    "    ax.set_yticks(ticks)    \n",
    "    ax.set_yticklabels(tick_labels)\n",
    "    ax.set_xticks(ticks)\n",
    "    ax.set_xticklabels(tick_labels)\n",
    "    plt.axis(limits)\n",
    "    \n",
    "    return legends\n",
    "\n",
    "\n",
    "def plot_classifier(legends,\n",
    "                    threshold=.5,\n",
    "                    x1=True,\n",
    "                    fill_alpha=.4 if dark_theme else .6,\n",
    "                    linewidth=3,\n",
    "                    fontsize=16,\n",
    "                    positive_classification_text='',\n",
    "                    negative_classification_text='',):    \n",
    "    \n",
    "    limits = [-.25, 1.25]\n",
    "    \n",
    "    plt.fill_betweenx(limits,\n",
    "                      [threshold]*2,\n",
    "                      [max(limits) if x1 else -max(limits)]*2,\n",
    "                      alpha=fill_alpha,\n",
    "                      color='green' if x1 else 'red')\n",
    "    classification_plot = plt.plot([threshold]*2,\n",
    "                                   limits,\n",
    "                                   linewidth=linewidth)\n",
    "    if positive_classification_text:\n",
    "        plt.text(threshold+.05, .4, positive_classification_text, fontsize=fontsize, color='limegreen' if dark_theme else 'darkgreen')\n",
    "    if negative_classification_text:\n",
    "        plt.text(threshold-.4, .4, negative_classification_text, fontsize=fontsize, color='orange' if dark_theme else 'gold')\n",
    "        \n",
    "    plt.legend(*zip(*legends))\n",
    "    plt.axis(limits*2)\n"
   ]
  },
  {
   "cell_type": "code",
   "execution_count": 75,
   "metadata": {
    "slideshow": {
     "slide_type": "-"
    }
   },
   "outputs": [
    {
     "data": {
      "image/png": "[encoded data removed]",
      "text/plain": [
       "<Figure size 576x576 with 1 Axes>"
      ]
     },
     "metadata": {
      "needs_background": "light"
     },
     "output_type": "display_data"
    }
   ],
   "source": [
    "ax = get_figure()\n",
    "\n",
    "data = [np.array([False, False]),\n",
    "        np.array([True,  False]),\n",
    "        np.array([False, True]),\n",
    "        np.array([True,  True])]\n",
    "\n",
    "targets = [False,\n",
    "           False,\n",
    "           False,\n",
    "           True]\n",
    "\n",
    "legends = plot_problem(ax, data, targets)\n",
    "plt.show()"
   ]
  },
  {
   "cell_type": "markdown",
   "metadata": {
    "slideshow": {
     "slide_type": "-"
    }
   },
   "source": [
    "Solving the problem statistically"
   ]
  },
  {
   "cell_type": "code",
   "execution_count": 76,
   "metadata": {
    "slideshow": {
     "slide_type": "-"
    }
   },
   "outputs": [
    {
     "data": {
      "text/html": [
       "<div id=\"af8c506c3bcb5443\"></div>\n",
       "    <script type=\"text/javascript\">\n",
       "        $(function(){\n",
       "            var p = $(\"#af8c506c3bcb5443\");\n",
       "            if (p.length==0) return;\n",
       "            while (!p.hasClass(\"cell\")) {\n",
       "                p=p.parent();\n",
       "                if (p.prop(\"tagName\") ==\"body\") return;\n",
       "            }\n",
       "            var cell = p;\n",
       "            cell.find(\".input\").addClass(\"hide-in-slideshow\")\n",
       "        });\n",
       "    </script>"
      ]
     },
     "metadata": {},
     "output_type": "display_data"
    },
    {
     "data": {
      "text/latex": [
       "\n",
       "For predicting output $y\\in \\{true, false\\}$, our prior belief (naïve bayes) is\n",
       "\\begin{align}\n",
       "\\begin{cases}\n",
       "p(y=true) = \\dfrac{1}{4} = 0.25, \\\\ \n",
       "p(y=false) = 1 - p(y=true) = 0.75.\n",
       "\\end{cases}\n",
       "\\end{align}\n",
       "Maximizing belief, we predict\n",
       "\\begin{align}\n",
       "y = argmax(p(y)) = false\n",
       "\\end{align}\n"
      ],
      "text/plain": [
       "<IPython.core.display.Latex object>"
      ]
     },
     "execution_count": 76,
     "metadata": {},
     "output_type": "execute_result"
    }
   ],
   "source": [
    "hide_input_code()\n",
    "Latex('''\n",
    "For predicting output $y\\in \\{true, false\\}$, our prior belief (naïve bayes) is\n",
    "\\\\begin{align}\n",
    "\\\\begin{cases}\n",
    "p(y=true) = \\\\dfrac{1}{4} = 0.25, \\\\\\ \n",
    "p(y=false) = 1 - p(y=true) = 0.75.\n",
    "\\\\end{cases}\n",
    "\\\\end{align}\n",
    "Maximizing belief, we predict\n",
    "\\\\begin{align}\n",
    "y = argmax(p(y)) = false\n",
    "\\\\end{align}\n",
    "''')"
   ]
  },
  {
   "cell_type": "code",
   "execution_count": 77,
   "metadata": {
    "slideshow": {
     "slide_type": "slide"
    }
   },
   "outputs": [
    {
     "data": {
      "text/html": [
       "<div id=\"855e82f5cc003e96\"></div>\n",
       "    <script type=\"text/javascript\">\n",
       "        $(function(){\n",
       "            var p = $(\"#855e82f5cc003e96\");\n",
       "            if (p.length==0) return;\n",
       "            while (!p.hasClass(\"cell\")) {\n",
       "                p=p.parent();\n",
       "                if (p.prop(\"tagName\") ==\"body\") return;\n",
       "            }\n",
       "            var cell = p;\n",
       "            cell.find(\".input\").addClass(\"hide-in-slideshow\")\n",
       "        });\n",
       "    </script>"
      ]
     },
     "metadata": {},
     "output_type": "display_data"
    },
    {
     "data": {
      "image/png": "[encoded data removed]",
      "text/plain": [
       "<Figure size 576x576 with 1 Axes>"
      ]
     },
     "metadata": {
      "needs_background": "light"
     },
     "output_type": "display_data"
    }
   ],
   "source": [
    "hide_input_code()\n",
    "ax = get_figure()\n",
    "legends = plot_problem(ax, data, targets, title='Logical AND')\n",
    "\n",
    "plot_classifier(legends, x1=False,\n",
    "                positive_classification_text='     '+r'$x_1=true$'+'\\n=> '+r'$y = true$'+' or '+r'$false$',\n",
    "                negative_classification_text='     '+r'$x_1=false$'+'\\n=> '+r'$y = false$')"
   ]
  },
  {
   "cell_type": "code",
   "execution_count": 78,
   "metadata": {
    "slideshow": {
     "slide_type": "-"
    }
   },
   "outputs": [
    {
     "data": {
      "text/html": [
       "<div id=\"0505d8256e8d6570\"></div>\n",
       "    <script type=\"text/javascript\">\n",
       "        $(function(){\n",
       "            var p = $(\"#0505d8256e8d6570\");\n",
       "            if (p.length==0) return;\n",
       "            while (!p.hasClass(\"cell\")) {\n",
       "                p=p.parent();\n",
       "                if (p.prop(\"tagName\") ==\"body\") return;\n",
       "            }\n",
       "            var cell = p;\n",
       "            cell.find(\".input\").addClass(\"hide-in-slideshow\")\n",
       "        });\n",
       "    </script>"
      ]
     },
     "metadata": {},
     "output_type": "display_data"
    },
    {
     "data": {
      "text/latex": [
       "\n",
       "Given $x_1=false,$ we can with bayes theorem\n",
       "\\begin{align}\n",
       "p(A \\mid B) = \\dfrac{p(B \\mid A)\\:p(A)}{p(B)} \n",
       "\\end{align}\n",
       "\n",
       "update our posterior belief\n",
       "\\begin{align}\n",
       "p(y=true \\mid x_1=false)&= \\dfrac{p(x_1 = false \\mid y=true)\\:p(y=true)}{p(x_1=false)} \\\\ \n",
       "&= \\dfrac{0 \\cdot 0.25}{1} = 0, \\\\ \n",
       "\\implies y &= false.\n",
       "\\end{align}\n"
      ],
      "text/plain": [
       "<IPython.core.display.Latex object>"
      ]
     },
     "execution_count": 78,
     "metadata": {},
     "output_type": "execute_result"
    }
   ],
   "source": [
    "hide_input_code()\n",
    "\n",
    "Latex('''\n",
    "Given $x_1=false,$ we can with bayes theorem\n",
    "\\\\begin{align}\n",
    "p(A \\mid B) = \\\\dfrac{p(B \\mid A)\\\\:p(A)}{p(B)} \n",
    "\\\\end{align}\n",
    "\n",
    "update our posterior belief\n",
    "\\\\begin{align}\n",
    "p(y=true \\mid x_1=false)&= \\\\dfrac{p(x_1 = false \\mid y=true)\\\\:p(y=true)}{p(x_1=false)} \\\\\\ \n",
    "&= \\\\dfrac{0 \\cdot 0.25}{1} = 0, \\\\\\ \n",
    "\\implies y &= false.\n",
    "\\\\end{align}\n",
    "''')"
   ]
  },
  {
   "cell_type": "code",
   "execution_count": 79,
   "metadata": {
    "slideshow": {
     "slide_type": "slide"
    }
   },
   "outputs": [
    {
     "data": {
      "text/html": [
       "<div id=\"31d892eae910bc14\"></div>\n",
       "    <script type=\"text/javascript\">\n",
       "        $(function(){\n",
       "            var p = $(\"#31d892eae910bc14\");\n",
       "            if (p.length==0) return;\n",
       "            while (!p.hasClass(\"cell\")) {\n",
       "                p=p.parent();\n",
       "                if (p.prop(\"tagName\") ==\"body\") return;\n",
       "            }\n",
       "            var cell = p;\n",
       "            cell.find(\".input\").addClass(\"hide-in-slideshow\")\n",
       "        });\n",
       "    </script>"
      ]
     },
     "metadata": {},
     "output_type": "display_data"
    },
    {
     "data": {
      "image/png": "[encoded data removed]",
      "text/plain": [
       "<Figure size 576x576 with 1 Axes>"
      ]
     },
     "metadata": {
      "needs_background": "light"
     },
     "output_type": "display_data"
    }
   ],
   "source": [
    "hide_input_code()\n",
    "ax = get_figure()\n",
    "legends = plot_problem(ax, data, targets, title='Logical AND')\n",
    "plot_classifier(legends, x1=True, \n",
    "                positive_classification_text='     '+r'$x_1=true$'+'\\n=> '+r'$y = true$'+' or '+r'$false$',\n",
    "                negative_classification_text='     '+r'$x_1=false$'+'\\n=> '+r'$y = false$')"
   ]
  },
  {
   "cell_type": "code",
   "execution_count": 80,
   "metadata": {
    "slideshow": {
     "slide_type": "-"
    }
   },
   "outputs": [
    {
     "data": {
      "text/html": [
       "<div id=\"d00de1862577466e\"></div>\n",
       "    <script type=\"text/javascript\">\n",
       "        $(function(){\n",
       "            var p = $(\"#d00de1862577466e\");\n",
       "            if (p.length==0) return;\n",
       "            while (!p.hasClass(\"cell\")) {\n",
       "                p=p.parent();\n",
       "                if (p.prop(\"tagName\") ==\"body\") return;\n",
       "            }\n",
       "            var cell = p;\n",
       "            cell.find(\".input\").addClass(\"hide-in-slideshow\")\n",
       "        });\n",
       "    </script>"
      ]
     },
     "metadata": {},
     "output_type": "display_data"
    },
    {
     "data": {
      "text/latex": [
       "\n",
       "Given $x_1=true,$ our posterior belief\n",
       "\\begin{align}\n",
       "p(y=true \\mid x_1=true) &= \\dfrac{p(x_1 = true \\mid y=true)\\:p(y=true)}{p(x_1=true)} \\\\ \n",
       "&= \\dfrac{1 \\cdot 0.25}{p(x_1 = true \\mid y=true)\\:p(y=true) + p(x_1 = true \\mid y=false)\\:p(y=false)} = 0.25, \\\\ \n",
       "\\implies y &= false.\n",
       "\\end{align}\n"
      ],
      "text/plain": [
       "<IPython.core.display.Latex object>"
      ]
     },
     "execution_count": 80,
     "metadata": {},
     "output_type": "execute_result"
    }
   ],
   "source": [
    "hide_input_code()\n",
    "Latex('''\n",
    "Given $x_1=true,$ our posterior belief\n",
    "\\\\begin{align}\n",
    "p(y=true \\mid x_1=true) &= \\\\dfrac{p(x_1 = true \\mid y=true)\\\\:p(y=true)}{p(x_1=true)} \\\\\\ \n",
    "&= \\\\dfrac{1 \\cdot 0.25}{p(x_1 = true \\mid y=true)\\\\:p(y=true) + p(x_1 = true \\mid y=false)\\\\:p(y=false)} = 0.25, \\\\\\ \n",
    "\\implies y &= false.\n",
    "\\\\end{align}\n",
    "''')"
   ]
  }
 ],
 "metadata": {
  "celltoolbar": "Slideshow",
  "kernelspec": {
   "display_name": "Python 3",
   "language": "python",
   "name": "python3"
  },
  "language_info": {
   "codemirror_mode": {
    "name": "ipython",
    "version": 3
   },
   "file_extension": ".py",
   "mimetype": "text/x-python",
   "name": "python",
   "nbconvert_exporter": "python",
   "pygments_lexer": "ipython3",
   "version": "3.8.5"
  },
  "load_extensions": {
   "livereveal/main": true
  },
  "nbext_hide_incompat": true,
  "rise": {
   "enable_chalkboard": true,
   "exclude_input": true,
   "reveal_scroll": true,
   "start_slideshow_at": "selected",
   "theme": "simple",
   "transition": "none",
   "width": "80%"
  }
 },
 "nbformat": 4,
 "nbformat_minor": 4
}
