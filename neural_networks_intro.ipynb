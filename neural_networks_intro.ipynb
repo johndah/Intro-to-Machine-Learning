{
 "cells": [
  {
   "cell_type": "code",
   "execution_count": 8,
   "metadata": {
    "slideshow": {
     "slide_type": "skip"
    }
   },
   "outputs": [],
   "source": [
    "def hide_code_in_slideshow():   \n",
    "    from IPython import display\n",
    "    import binascii\n",
    "    import os\n",
    "    uid = binascii.hexlify(os.urandom(8)).decode()    \n",
    "    html = \"\"\"<div id=\"%s\"></div>\n",
    "    <script type=\"text/javascript\">\n",
    "        $(function(){\n",
    "            var p = $(\"#%s\");\n",
    "            if (p.length==0) return;\n",
    "            while (!p.hasClass(\"cell\")) {\n",
    "                p=p.parent();\n",
    "                if (p.prop(\"tagName\") ==\"body\") return;\n",
    "            }\n",
    "            var cell = p;\n",
    "            cell.find(\".input\").addClass(\"hide-in-slideshow\")\n",
    "        });\n",
    "    </script>\"\"\" % (uid, uid)\n",
    "    display.display_html(html, raw=True)\n"
   ]
  },
  {
   "cell_type": "markdown",
   "metadata": {
    "cell_style": "center",
    "slideshow": {
     "slide_type": "slide"
    }
   },
   "source": [
    "\n",
    "# Logical AND Problem\n"
   ]
  },
  {
   "cell_type": "code",
   "execution_count": 10,
   "metadata": {
    "scrolled": false,
    "slideshow": {
     "slide_type": "-"
    }
   },
   "outputs": [
    {
     "data": {
      "text/latex": [
       "\n",
       "We have the data\n",
       "\\begin{align}\n",
       "\\mathbf{x_i} &\\in \\left\\{\n",
       "\\begin{pmatrix} false\\\\ false\\end{pmatrix},\n",
       "\\begin{pmatrix} true\\\\ false\\end{pmatrix},\n",
       "\\begin{pmatrix} true\\\\ false\\end{pmatrix},\n",
       "\\begin{pmatrix} true\\\\ true\\end{pmatrix}\n",
       "\\right\\}, \\\\ \n",
       "&= \\left\\{\n",
       "\\begin{pmatrix} 0\\\\ 0\\end{pmatrix},\n",
       "\\begin{pmatrix} 1\\\\ 0\\end{pmatrix},\n",
       "\\begin{pmatrix} 0\\\\ 1\\end{pmatrix},\n",
       "\\begin{pmatrix} 1\\\\ 1\\end{pmatrix}\n",
       "\\right\\} \\\\ \\\\ \n",
       "t_i &\\in \\left\\{false, false, false, true\n",
       "\\right\\} \\\\ \n",
       "&= \\left\\{0, 0, 0, 1\\right\\}.\n",
       "\\end{align}\n",
       "where $\\mathbf{x_i}$ is an input sample and $z_i$ is the corresponding output target.\n"
      ],
      "text/plain": [
       "<IPython.core.display.Latex object>"
      ]
     },
     "execution_count": 10,
     "metadata": {},
     "output_type": "execute_result"
    },
    {
     "data": {
      "image/png": "[encoded data removed]",
      "text/plain": [
       "<Figure size 576x576 with 1 Axes>"
      ]
     },
     "metadata": {
      "needs_background": "dark"
     },
     "output_type": "display_data"
    }
   ],
   "source": [
    "from IPython.display import Latex, HTML, Markdown\n",
    "import matplotlib.pyplot as plt\n",
    "from matplotlib.ticker import MaxNLocator\n",
    "import numpy as np\n",
    "%matplotlib inline\n",
    "\n",
    "data = [(np.array([False, False]), False),\n",
    "        (np.array([True, False]), False),\n",
    "        (np.array([False, True]), False),\n",
    "        (np.array([True, True]), True)]\n",
    "\n",
    "\n",
    "fig = plt.figure(figsize=(8, 8))\n",
    "ax = fig.gca()\n",
    "\n",
    "def plot_problem():\n",
    "    for sample in data:\n",
    "        sample_input = sample[0].astype(int)\n",
    "        ground_truth = sample[1]\n",
    "\n",
    "        if ground_truth: # If output is True\n",
    "            sample_marker = 'o'\n",
    "            sample_color = 'green'\n",
    "        else:\n",
    "            sample_marker = 's'\n",
    "            sample_color = 'red'\n",
    "\n",
    "        plt.plot(sample_input[0],\n",
    "                sample_input[1],\n",
    "                sample_marker,\n",
    "                color=sample_color,\n",
    "                markersize=10,\n",
    "                label=ground_truth)\n",
    "    plt.axis('equal')\n",
    "    limits = [-.25, 1.25, -.25, 1.25]\n",
    "   \n",
    "    plt.grid()\n",
    "    plt.xlabel(r'$x_1$')\n",
    "    plt.ylabel(r'$x_2$')\n",
    "    handles, labels = ax.get_legend_handles_labels()\n",
    "    legends = [(h, l) for i, (h, l) in enumerate(zip(handles, labels)) if l not in labels[:i]]\n",
    "    ax.legend(*zip(*legends))\n",
    "    plt.title('Logical AND')\n",
    "\n",
    "    ticks = np.arange(limits[0], 2*limits[1], .25)\n",
    "    tick_labels = [str(tick) for tick in ticks]\n",
    "    tick_labels[np.where(ticks == 0)[0][0]] += '\\n(False)'\n",
    "    tick_labels[np.where(ticks == 1)[0][0]] += '\\n(True)'\n",
    "    ax.set_yticks(ticks)\n",
    "    ax.set_yticklabels(tick_labels)\n",
    "    ax.set_xticks(ticks)\n",
    "    ax.set_xticklabels(tick_labels)\n",
    "    plt.axis(limits)\n",
    "\n",
    "    label_color = 'white'\n",
    "    ax.set_title(ax.get_title(), color=label_color)\n",
    "    \n",
    "    [ax.spines[spine].set_color(label_color) for spine in ax.spines]\n",
    "    ax.xaxis.label.set_color(label_color)\n",
    "    ax.yaxis.label.set_color(label_color)\n",
    "    ax.tick_params(axis='x', colors=label_color)\n",
    "    ax.tick_params(axis='y', colors=label_color)\n",
    "\n",
    "\n",
    "    return legends\n",
    "\n",
    "\n",
    "plot_problem()\n",
    "\n",
    "Latex('''\n",
    "We have the data\n",
    "\\\\begin{align}\n",
    "\\\\mathbf{x_i} &\\in \\\\left\\\\{\n",
    "\\\\begin{pmatrix} false\\\\\\ false\\\\end{pmatrix},\n",
    "\\\\begin{pmatrix} true\\\\\\ false\\\\end{pmatrix},\n",
    "\\\\begin{pmatrix} true\\\\\\ false\\\\end{pmatrix},\n",
    "\\\\begin{pmatrix} true\\\\\\ true\\\\end{pmatrix}\n",
    "\\\\right\\\\}, \\\\\\ \n",
    "&= \\\\left\\\\{\n",
    "\\\\begin{pmatrix} 0\\\\\\ 0\\\\end{pmatrix},\n",
    "\\\\begin{pmatrix} 1\\\\\\ 0\\\\end{pmatrix},\n",
    "\\\\begin{pmatrix} 0\\\\\\ 1\\\\end{pmatrix},\n",
    "\\\\begin{pmatrix} 1\\\\\\ 1\\\\end{pmatrix}\n",
    "\\\\right\\\\} \\\\\\ \\\\\\ \n",
    "t_i &\\in \\\\left\\\\{false, false, false, true\n",
    "\\\\right\\\\} \\\\\\ \n",
    "&= \\\\left\\\\{0, 0, 0, 1\\\\right\\\\}.\n",
    "\\\\end{align}\n",
    "where $\\\\mathbf{x_i}$ is an input sample and $z_i$ is the corresponding output target.\n",
    "''')\n"
   ]
  },
  {
   "cell_type": "markdown",
   "metadata": {
    "scrolled": false,
    "slideshow": {
     "slide_type": "slide"
    }
   },
   "source": [
    "# Solving the problem geometrically"
   ]
  },
  {
   "cell_type": "code",
   "execution_count": 11,
   "metadata": {
    "scrolled": false,
    "slideshow": {
     "slide_type": "-"
    }
   },
   "outputs": [
    {
     "data": {
      "text/latex": [
       "\n",
       "\n",
       "To solve the problem geomerically, lets define a classification line with normal respectively bias\n",
       "\\begin{align*}\n",
       "\\mathbf{w_{norm}} &= \\begin{pmatrix} 0.6 \\\\ 0.6\\end{pmatrix},\\\\ \n",
       "w_b &= 1\n",
       "\\end{align*}\n"
      ],
      "text/plain": [
       "<IPython.core.display.Latex object>"
      ]
     },
     "execution_count": 11,
     "metadata": {},
     "output_type": "execute_result"
    },
    {
     "data": {
      "image/png": "[encoded data removed]",
      "text/plain": [
       "<Figure size 576x576 with 1 Axes>"
      ]
     },
     "metadata": {
      "needs_background": "dark"
     },
     "output_type": "display_data"
    }
   ],
   "source": [
    "fig = plt.figure(figsize=(8, 8))\n",
    "ax = fig.gca()\n",
    "\n",
    "def plot_classification(weights):\n",
    "    \n",
    "    normal = np.atleast_2d(weights[:2]).T\n",
    "    bias = -weights[-1]/np.linalg.norm(normal)\n",
    "    legends = plot_problem()\n",
    "    \n",
    "    bias_vec = bias * normal / np.linalg.norm(normal)\n",
    "    plt.quiver(bias_vec[0], bias_vec[1], normal[0], normal[1], color='b', angles='xy', scale_units='xy', scale=1)\n",
    "    plt.text(bias_vec[0]+.1, bias_vec[1]-.03, r\"normal $\\mathbf{w_{norm}} = (%s, %s)^T$\"%(np.round(normal[0][0], 2), np.round(normal[1][0], 2)), color='b', fontsize=12)\n",
    "\n",
    "    plt.quiver(0, 0, bias_vec[0], bias_vec[1], color='orange', angles='xy', scale_units='xy', scale=1, width=.006)\n",
    "    plt.quiver(bias_vec[0], bias_vec[1], -bias_vec[0], -bias_vec[1], angles='xy', scale_units='xy', scale=1, color='orange', width=.006)\n",
    "    plt.text(bias_vec[0]/2+.05, bias_vec[1]/2-.03, r\"bias $w_b = %s$\"%(np.round(bias, 2)), color='orange', fontsize=12)\n",
    "\n",
    "    # Parameterization\n",
    "    x_lim = 2*(normal[0]/normal[1] + bias)\n",
    "    t = np.arange(-x_lim, x_lim, 1)\n",
    "    line_direction = np.array([normal[1], -normal[0]])\n",
    "    classification_line = line_direction * t + bias_vec \n",
    "    classification_plot = plt.plot(classification_line[0], classification_line[1], linewidth=2.5)\n",
    "    plt.fill_between(classification_line[0], classification_line[1], np.max(classification_line[1]), alpha=.3,)\n",
    "\n",
    "    legends.append((classification_plot[0], 'Classification line'))\n",
    "    plt.legend(*zip(*legends))\n",
    "    plt.axis([-.25, 1.7, -.25, 1.7])\n",
    "\n",
    "bias = 1.\n",
    "normal = np.atleast_2d([.6, .6]).T\n",
    "weights = np.append(normal, -bias)\n",
    "\n",
    "plot_classification(weights)\n",
    "\n",
    "Latex('''\n",
    "\n",
    "To solve the problem geomerically, lets define a classification line with normal respectively bias\n",
    "\\\\begin{align*}\n",
    "\\\\mathbf{w_{norm}} &= \\\\begin{pmatrix} 0.6 \\\\\\ 0.6\\\\end{pmatrix},\\\\\\ \n",
    "w_b &= 1\n",
    "\\\\end{align*}\n",
    "''')\n",
    "    "
   ]
  },
  {
   "cell_type": "code",
   "execution_count": 16,
   "metadata": {
    "slideshow": {
     "slide_type": "skip"
    }
   },
   "outputs": [
    {
     "data": {
      "application/javascript": [
       "MathJax.Hub.Config({\n",
       "    TeX: { equationNumbers: { autoNumber: \"AMS\" } }\n",
       "});\n",
       "MathJax.Hub.Queue(\n",
       "    [\"resetEquationNumbers\", MathJax.InputJax.TeX],\n",
       "    [\"PreProcess\", MathJax.Hub],\n",
       "    [\"Reprocess\", MathJax.Hub]\n",
       ");\n"
      ],
      "text/plain": [
       "<IPython.core.display.Javascript object>"
      ]
     },
     "metadata": {},
     "output_type": "display_data"
    }
   ],
   "source": [
    "%%javascript\n",
    "MathJax.Hub.Config({\n",
    "    TeX: { equationNumbers: { autoNumber: \"AMS\" } }\n",
    "});\n",
    "MathJax.Hub.Queue(\n",
    "    [\"resetEquationNumbers\", MathJax.InputJax.TeX],\n",
    "    [\"PreProcess\", MathJax.Hub],\n",
    "    [\"Reprocess\", MathJax.Hub]\n",
    ");"
   ]
  },
  {
   "cell_type": "code",
   "execution_count": 15,
   "metadata": {
    "cell_style": "center",
    "scrolled": true,
    "slideshow": {
     "slide_type": "subslide"
    }
   },
   "outputs": [
    {
     "data": {
      "text/latex": [
       "\n",
       "Consider some sample e.g. $\\mathbf{x_2}$ \n",
       "\n",
       "Projecting it onto $\\mathbf{w_{norm}}$, and subtracting with the bias $w_b$ gives weighted sum\n",
       "\n",
       "\\begin{align}\n",
       "s_2 &= \\mathbf{w_{norm}^T} \\mathbf{x_2} - w_b \\\\ \n",
       "&= \\begin{pmatrix} w_1 & w_2\\end{pmatrix} \\begin{pmatrix} x_1\\\\ x_2\\end{pmatrix} - w_b \\\\ \n",
       "&= \\underbrace{\\begin{pmatrix} 0.6 & 0.6 \\end{pmatrix} \\begin{pmatrix} 0 \\\\ 1 \\end{pmatrix}}_{0.6} - 1 \\\\ \n",
       "&= -0.4\n",
       "\\end{align}\n",
       "\n",
       "that is, the distance to the classification line. Finally, let the prediction\n",
       "\n",
       "\\begin{equation}\n",
       "y = a(s) = \\begin{cases} 1, \\text{ if } s \\geq 0,\\\\ 0 \\text{ otherwise}\n",
       "\\end{cases}\n",
       "\\end{equation}\n",
       "\n",
       "determine the classification. Sample $\\mathbf{x_2}$ would thus be predicted as\n",
       "\\begin{equation}\n",
       "y_2 = a(s_2) = \\left\\{s_2 = -0.4 \\ngeq 0 \\right\\} = 0, \n",
       "\\end{equation}\n",
       "that is $false$, as expected.\n"
      ],
      "text/plain": [
       "<IPython.core.display.Latex object>"
      ]
     },
     "execution_count": 15,
     "metadata": {},
     "output_type": "execute_result"
    },
    {
     "data": {
      "image/png": "[encoded data removed]",
      "text/plain": [
       "<Figure size 720x720 with 1 Axes>"
      ]
     },
     "metadata": {
      "needs_background": "dark"
     },
     "output_type": "display_data"
    }
   ],
   "source": [
    "fig = plt.figure(figsize=(10, 10))\n",
    "ax = fig.gca()\n",
    "\n",
    "\n",
    "plot_classification(weights)\n",
    "\n",
    "\n",
    "sample_index = 2\n",
    "sample = data[sample_index][0].astype(int)\n",
    "\n",
    "plt.quiver(0, 0, sample[0], sample[1], color='r', angles='xy', scale_units='xy', scale=1)\n",
    "projected_sample_distance = normal.T @ sample\n",
    "projected_sample = projected_sample_distance * np.sqrt(2)* normal\n",
    "plt.text(sample[0]/2, sample[1]/2, r\"sample $\\mathbf{x_%s} = (%s, %s)^T$\"%(sample_index, sample[0], sample[1]), color='red', fontsize=12)\n",
    "\n",
    "plt.quiver(0, 0, projected_sample[0], projected_sample[1], color='purple', angles='xy', scale_units='xy', scale=1,width=.006)\n",
    "plt.quiver(projected_sample[0], projected_sample[1], -projected_sample[0], -projected_sample[1], color='purple', angles='xy', scale_units='xy', scale=1, width=.006)\n",
    "plt.text(projected_sample[0]/2+.05, projected_sample[1]/2-.1, r\"projected sample distance\"'\\n'\n",
    "\"$\\mathbf{w_{norm}^T} \\mathbf{x_2} = %s$\"%projected_sample_distance, color='purple', fontsize=12)\n",
    "\n",
    "\n",
    "Latex('''\n",
    "Consider some sample e.g. $\\\\mathbf{x_2}$ \n",
    "\n",
    "Projecting it onto $\\mathbf{w_{norm}}$, and subtracting with the bias $w_b$ gives weighted sum\n",
    "\n",
    "\\\\begin{align}\n",
    "s_2 &= \\\\mathbf{w_{norm}^T} \\\\mathbf{x_2} - w_b \\\\\\ \n",
    "&= \\\\begin{pmatrix} w_1 & w_2\\\\end{pmatrix} \\\\begin{pmatrix} x_1\\\\\\ x_2\\\\end{pmatrix} - w_b \\\\\\ \n",
    "&= \\\\underbrace{\\\\begin{pmatrix} 0.6 & 0.6 \\\\end{pmatrix} \\\\begin{pmatrix} 0 \\\\\\ 1 \\\\end{pmatrix}}_{0.6} - 1 \\\\\\ \n",
    "&= -0.4\n",
    "\\\\end{align}\n",
    "\n",
    "that is, the distance to the classification line. Finally, let the prediction\n",
    "\n",
    "\\\\begin{equation}\n",
    "y = a(s) = \\\\begin{cases} 1, \\\\text{ if } s \\\\geq 0,\\\\\\ 0 \\\\text{ otherwise}\n",
    "\\\\end{cases}\n",
    "\\\\end{equation}\n",
    "\n",
    "determine the classification. Sample $\\\\mathbf{x_2}$ would thus be predicted as\n",
    "\\\\begin{equation}\n",
    "y_2 = a(s_2) = \\\\left\\\\{s_2 = -0.4 \\\\ngeq 0 \\\\right\\\\} = 0, \n",
    "\\\\end{equation}\n",
    "that is $false$, as expected.\n",
    "''')\n"
   ]
  },
  {
   "cell_type": "code",
   "execution_count": 17,
   "metadata": {
    "cell_style": "center",
    "slideshow": {
     "slide_type": "subslide"
    }
   },
   "outputs": [
    {
     "data": {
      "text/latex": [
       "\n",
       "Lets instead classify sample $\\mathbf{x_4} = \\begin{pmatrix} 1\\\\ 1\\end{pmatrix}.$\n",
       "The weighted sum\n",
       "\n",
       "\\begin{align}\n",
       "s_3 &= \\mathbf{w_{norm}^T} \\mathbf{x_3} - w_b \n",
       "= \\underbrace{\\begin{pmatrix} 0.6 & 0.6 \\end{pmatrix} \\begin{pmatrix} 1 \\\\ 1 \\end{pmatrix}}_{1.2} - 1 \\\\ \n",
       "&= 0.2 \\geq 0 \\\\ \n",
       "\\implies\n",
       "y_3 &= 1\n",
       "\\end{align} \n",
       "that is $true$, also as expected.\n"
      ],
      "text/plain": [
       "<IPython.core.display.Latex object>"
      ]
     },
     "execution_count": 17,
     "metadata": {},
     "output_type": "execute_result"
    }
   ],
   "source": [
    "\n",
    "Latex('''\n",
    "Lets instead classify sample $\\\\mathbf{x_4} = \\\\begin{pmatrix} 1\\\\\\ 1\\\\end{pmatrix}.$\n",
    "The weighted sum\n",
    "\n",
    "\\\\begin{align}\n",
    "s_3 &= \\\\mathbf{w_{norm}^T} \\\\mathbf{x_3} - w_b \n",
    "= \\\\underbrace{\\\\begin{pmatrix} 0.6 & 0.6 \\\\end{pmatrix} \\\\begin{pmatrix} 1 \\\\\\ 1 \\\\end{pmatrix}}_{1.2} - 1 \\\\\\ \n",
    "&= 0.2 \\\\geq 0 \\\\\\ \n",
    "\\\\implies\n",
    "y_3 &= 1\n",
    "\\\\end{align} \n",
    "that is $true$, also as expected.\n",
    "''')\n"
   ]
  },
  {
   "cell_type": "markdown",
   "metadata": {
    "slideshow": {
     "slide_type": "slide"
    }
   },
   "source": [
    "# Bringing in Neural Networks"
   ]
  },
  {
   "cell_type": "code",
   "execution_count": 93,
   "metadata": {
    "slideshow": {
     "slide_type": "-"
    }
   },
   "outputs": [
    {
     "data": {
      "image/png": "[encoded data removed]",
      "text/plain": [
       "<Figure size 432x288 with 1 Axes>"
      ]
     },
     "metadata": {
      "needs_background": "light"
     },
     "output_type": "display_data"
    }
   ],
   "source": [
    "from viznet import connecta2a, node_sequence, NodeBrush, EdgeBrush, DynamicShow\n",
    "\n",
    "\n",
    "def draw_feed_forward(ax, num_node_list):\n",
    "\n",
    "    num_hidden_layer = len(num_node_list) - 2\n",
    "    token_list = ['\\sigma^z'] + \\\n",
    "        ['x^{(%s)}' % (i + 1) for i in range(num_hidden_layer)] + ['\\psi']\n",
    "    kind_list = ['nn.input'] + ['nn.input'] #+ ['nn.hidden'] * num_hidden_layer + ['nn.recurrent']\n",
    "    radius_list = [.5] + [.5]#[1.2] + [0.035] * num_hidden_layer + [0.7]\n",
    "    x_list = 1 * np.arange(len(num_node_list))\n",
    "\n",
    "    seq_list = []\n",
    "    for n, kind, radius, x in zip(num_node_list, kind_list, radius_list, x_list):\n",
    "        b = NodeBrush(kind, ax)\n",
    "        seq_list.append(node_sequence(b, n, center=(x, x)))\n",
    "\n",
    "    eb = EdgeBrush('-->', ax)\n",
    "    for st, et in zip(seq_list[:-1], seq_list[1:]):\n",
    "        connecta2a(st, et, eb)\n",
    "\n",
    "\n",
    "def real_bp():\n",
    "    d = DynamicShow((10, 6))\n",
    "    draw_feed_forward(d.ax, num_node_list=[2, 1])\n",
    "        \n",
    "#mpo21 = NodeBrush(, size='normal')\n",
    "#mpo21.size = (0.7, 0.3)\n",
    "#node3 = mpo21 >> (1.5, 1.0)\n",
    "#left_bottom_pin = node3.pin('bottom', align=node1)\n",
    "#edge >> (left_bottom_pin, node1)\n",
    "real_bp()\n",
    "\n"
   ]
  },
  {
   "cell_type": "code",
   "execution_count": 135,
   "metadata": {},
   "outputs": [
    {
     "ename": "TypeError",
     "evalue": "list indices must be integers or slices, not str",
     "output_type": "error",
     "traceback": [
      "\u001b[0;31m---------------------------------------------------------------------------\u001b[0m",
      "\u001b[0;31mTypeError\u001b[0m                                 Traceback (most recent call last)",
      "\u001b[0;32m<ipython-input-135-499ca9686b86>\u001b[0m in \u001b[0;36m<module>\u001b[0;34m\u001b[0m\n\u001b[1;32m     23\u001b[0m \u001b[0mi\u001b[0m \u001b[0;34m=\u001b[0m \u001b[0;36m0\u001b[0m\u001b[0;34m\u001b[0m\u001b[0;34m\u001b[0m\u001b[0m\n\u001b[1;32m     24\u001b[0m \u001b[0;32mfor\u001b[0m \u001b[0ma\u001b[0m \u001b[0;32min\u001b[0m \u001b[0mFrom\u001b[0m\u001b[0;34m:\u001b[0m\u001b[0;34m\u001b[0m\u001b[0;34m\u001b[0m\u001b[0m\n\u001b[0;32m---> 25\u001b[0;31m     \u001b[0mLabels\u001b[0m\u001b[0;34m[\u001b[0m\u001b[0ma\u001b[0m\u001b[0;34m]\u001b[0m\u001b[0;34m=\u001b[0m\u001b[0ma\u001b[0m\u001b[0;34m\u001b[0m\u001b[0;34m\u001b[0m\u001b[0m\n\u001b[0m\u001b[1;32m     26\u001b[0m     \u001b[0mi\u001b[0m \u001b[0;34m+=\u001b[0m\u001b[0;36m1\u001b[0m\u001b[0;34m\u001b[0m\u001b[0;34m\u001b[0m\u001b[0m\n\u001b[1;32m     27\u001b[0m \u001b[0mLabels\u001b[0m\u001b[0;34m[\u001b[0m\u001b[0mTo\u001b[0m\u001b[0;34m[\u001b[0m\u001b[0;34m-\u001b[0m\u001b[0;36m1\u001b[0m\u001b[0;34m]\u001b[0m\u001b[0;34m]\u001b[0m\u001b[0;34m=\u001b[0m\u001b[0mTo\u001b[0m\u001b[0;34m[\u001b[0m\u001b[0;34m-\u001b[0m\u001b[0;36m1\u001b[0m\u001b[0;34m]\u001b[0m\u001b[0;34m\u001b[0m\u001b[0;34m\u001b[0m\u001b[0m\n",
      "\u001b[0;31mTypeError\u001b[0m: list indices must be integers or slices, not str"
     ]
    },
    {
     "data": {
      "text/plain": [
       "<Figure size 864x648 with 0 Axes>"
      ]
     },
     "metadata": {},
     "output_type": "display_data"
    }
   ],
   "source": [
    "import pandas as pd\n",
    "import networkx as nx\n",
    "import matplotlib.pyplot as plt\n",
    "\n",
    "plt.figure(figsize = (12,9))\n",
    "\n",
    "From = [r'$x_1$', r'$x_2$']\n",
    "To = ['y', 'y']\n",
    "\n",
    "df = pd.DataFrame({ 'from':From,\n",
    "                   'to':To})\n",
    "\n",
    "pos = {r'$x_1$':(1,1),\n",
    "       r'$x_2$':(1,2),\n",
    "       'y':(2,1.5)}\n",
    "\n",
    "# Define Node Colors\n",
    "NodeColors = {r'$x_1$':[1,0,1],\n",
    "        r'$x_2$':[1,1,0],\n",
    "             'y':[1,1,0]}\n",
    "\n",
    "Labels = {}\n",
    "i = 0\n",
    "for a in From:\n",
    "    Labels[a]=a\n",
    "    i +=1\n",
    "Labels[To[-1]]=To[-1]\n",
    "print(Labels)\n",
    "# Build your graph. Note that we use the DiGraph function to create the graph! This adds arrows\n",
    "G=nx.from_pandas_edgelist(df, 'from', 'to', create_using=nx.DiGraph() )\n",
    "\n",
    "# Define the colormap and set nodes to circles, but the last one to a triangle\n",
    "Circles = []\n",
    "Colors = []\n",
    "for n in G.nodes:\n",
    "    Circles.append(n)\n",
    "\n",
    "# By making a white node that is larger, I can make the arrow \"start\" beyond the node\n",
    "nodes = nx.draw_networkx_nodes(G, pos, \n",
    "                       nodelist = Circles,\n",
    "                       node_size=1.e4,\n",
    "                       node_shape='o',\n",
    "                       node_color='orange',\n",
    "                       alpha=1.)\n",
    "\n",
    "\n",
    "nx.draw_networkx_labels(G, pos, Labels, font_size=12)\n",
    "\n",
    "# Again by making the node_size larer, I can have the arrows end before they actually hit the node\n",
    "edges = nx.draw_networkx_edges(G, pos, node_size=1.e4,\n",
    "                               arrowstyle='->',width=2)\n",
    "\n",
    "plt.xlim(0,3)\n",
    "plt.ylim(0,3)\n",
    "\n",
    "plt.axis('off')\n",
    "plt.show()"
   ]
  },
  {
   "cell_type": "code",
   "execution_count": 15,
   "metadata": {
    "slideshow": {
     "slide_type": "subslide"
    }
   },
   "outputs": [
    {
     "data": {
      "text/markdown": [
       "\n",
       "<img src=\"Figures/neuron.jpg\" alt=\"fishy\" class=\"bg-primary mb-1\" width=\"400px\">\n"
      ],
      "text/plain": [
       "<IPython.core.display.Markdown object>"
      ]
     },
     "execution_count": 15,
     "metadata": {},
     "output_type": "execute_result"
    },
    {
     "data": {
      "image/png": "[encoded data removed]",
      "text/plain": [
       "<Figure size 432x288 with 1 Axes>"
      ]
     },
     "metadata": {
      "needs_background": "light"
     },
     "output_type": "display_data"
    }
   ],
   "source": [
    "real_bp()\n",
    "\n",
    "Markdown('''\n",
    "<img src=\"Figures/neuron.jpg\" alt=\"fishy\" class=\"bg-primary mb-1\" width=\"400px\">\n",
    "''')"
   ]
  },
  {
   "cell_type": "code",
   "execution_count": 75,
   "metadata": {},
   "outputs": [],
   "source": [
    "import tikzmagic\n"
   ]
  },
  {
   "cell_type": "code",
   "execution_count": 76,
   "metadata": {},
   "outputs": [
    {
     "ename": "FileNotFoundError",
     "evalue": "[Errno 2] No such file or directory: 'convert'",
     "output_type": "error",
     "traceback": [
      "\u001b[0;31m---------------------------------------------------------------------------\u001b[0m",
      "\u001b[0;31mFileNotFoundError\u001b[0m                         Traceback (most recent call last)",
      "\u001b[0;32m<ipython-input-76-ed7f2bbc873f>\u001b[0m in \u001b[0;36m<module>\u001b[0;34m\u001b[0m\n\u001b[0;32m----> 1\u001b[0;31m \u001b[0mget_ipython\u001b[0m\u001b[0;34m(\u001b[0m\u001b[0;34m)\u001b[0m\u001b[0;34m.\u001b[0m\u001b[0mrun_cell_magic\u001b[0m\u001b[0;34m(\u001b[0m\u001b[0;34m'tikz'\u001b[0m\u001b[0;34m,\u001b[0m \u001b[0;34m''\u001b[0m\u001b[0;34m,\u001b[0m \u001b[0;34m'\\\\draw (0,0) rectangle (1,1);\\n\\\\filldraw (0.5,0.5) circle (.1);\\n'\u001b[0m\u001b[0;34m)\u001b[0m\u001b[0;34m\u001b[0m\u001b[0;34m\u001b[0m\u001b[0m\n\u001b[0m",
      "\u001b[0;32m~/miniconda3/envs/ML-tech-talk/lib/python3.8/site-packages/IPython/core/interactiveshell.py\u001b[0m in \u001b[0;36mrun_cell_magic\u001b[0;34m(self, magic_name, line, cell)\u001b[0m\n\u001b[1;32m   2379\u001b[0m             \u001b[0;32mwith\u001b[0m \u001b[0mself\u001b[0m\u001b[0;34m.\u001b[0m\u001b[0mbuiltin_trap\u001b[0m\u001b[0;34m:\u001b[0m\u001b[0;34m\u001b[0m\u001b[0;34m\u001b[0m\u001b[0m\n\u001b[1;32m   2380\u001b[0m                 \u001b[0margs\u001b[0m \u001b[0;34m=\u001b[0m \u001b[0;34m(\u001b[0m\u001b[0mmagic_arg_s\u001b[0m\u001b[0;34m,\u001b[0m \u001b[0mcell\u001b[0m\u001b[0;34m)\u001b[0m\u001b[0;34m\u001b[0m\u001b[0;34m\u001b[0m\u001b[0m\n\u001b[0;32m-> 2381\u001b[0;31m                 \u001b[0mresult\u001b[0m \u001b[0;34m=\u001b[0m \u001b[0mfn\u001b[0m\u001b[0;34m(\u001b[0m\u001b[0;34m*\u001b[0m\u001b[0margs\u001b[0m\u001b[0;34m,\u001b[0m \u001b[0;34m**\u001b[0m\u001b[0mkwargs\u001b[0m\u001b[0;34m)\u001b[0m\u001b[0;34m\u001b[0m\u001b[0;34m\u001b[0m\u001b[0m\n\u001b[0m\u001b[1;32m   2382\u001b[0m             \u001b[0;32mreturn\u001b[0m \u001b[0mresult\u001b[0m\u001b[0;34m\u001b[0m\u001b[0;34m\u001b[0m\u001b[0m\n\u001b[1;32m   2383\u001b[0m \u001b[0;34m\u001b[0m\u001b[0m\n",
      "\u001b[0;32m~/miniconda3/envs/ML-tech-talk/lib/python3.8/site-packages/tikzmagic/tikzmagic.py\u001b[0m in \u001b[0;36mtikz\u001b[0;34m(line, cell)\u001b[0m\n",
      "\u001b[0;32m~/miniconda3/envs/ML-tech-talk/lib/python3.8/site-packages/tikzmagic/tikzmagic.py\u001b[0m in \u001b[0;36mlatex2image\u001b[0;34m(latex, density, export_file)\u001b[0m\n",
      "\u001b[0;32m~/miniconda3/envs/ML-tech-talk/lib/python3.8/site-packages/tikzmagic/tikzmagic.py\u001b[0m in \u001b[0;36msh_convert\u001b[0;34m(in_file, out_file, density)\u001b[0m\n",
      "\u001b[0;32m~/miniconda3/envs/ML-tech-talk/lib/python3.8/subprocess.py\u001b[0m in \u001b[0;36mcall\u001b[0;34m(timeout, *popenargs, **kwargs)\u001b[0m\n\u001b[1;32m    338\u001b[0m     \u001b[0mretcode\u001b[0m \u001b[0;34m=\u001b[0m \u001b[0mcall\u001b[0m\u001b[0;34m(\u001b[0m\u001b[0;34m[\u001b[0m\u001b[0;34m\"ls\"\u001b[0m\u001b[0;34m,\u001b[0m \u001b[0;34m\"-l\"\u001b[0m\u001b[0;34m]\u001b[0m\u001b[0;34m)\u001b[0m\u001b[0;34m\u001b[0m\u001b[0;34m\u001b[0m\u001b[0m\n\u001b[1;32m    339\u001b[0m     \"\"\"\n\u001b[0;32m--> 340\u001b[0;31m     \u001b[0;32mwith\u001b[0m \u001b[0mPopen\u001b[0m\u001b[0;34m(\u001b[0m\u001b[0;34m*\u001b[0m\u001b[0mpopenargs\u001b[0m\u001b[0;34m,\u001b[0m \u001b[0;34m**\u001b[0m\u001b[0mkwargs\u001b[0m\u001b[0;34m)\u001b[0m \u001b[0;32mas\u001b[0m \u001b[0mp\u001b[0m\u001b[0;34m:\u001b[0m\u001b[0;34m\u001b[0m\u001b[0;34m\u001b[0m\u001b[0m\n\u001b[0m\u001b[1;32m    341\u001b[0m         \u001b[0;32mtry\u001b[0m\u001b[0;34m:\u001b[0m\u001b[0;34m\u001b[0m\u001b[0;34m\u001b[0m\u001b[0m\n\u001b[1;32m    342\u001b[0m             \u001b[0;32mreturn\u001b[0m \u001b[0mp\u001b[0m\u001b[0;34m.\u001b[0m\u001b[0mwait\u001b[0m\u001b[0;34m(\u001b[0m\u001b[0mtimeout\u001b[0m\u001b[0;34m=\u001b[0m\u001b[0mtimeout\u001b[0m\u001b[0;34m)\u001b[0m\u001b[0;34m\u001b[0m\u001b[0;34m\u001b[0m\u001b[0m\n",
      "\u001b[0;32m~/miniconda3/envs/ML-tech-talk/lib/python3.8/subprocess.py\u001b[0m in \u001b[0;36m__init__\u001b[0;34m(self, args, bufsize, executable, stdin, stdout, stderr, preexec_fn, close_fds, shell, cwd, env, universal_newlines, startupinfo, creationflags, restore_signals, start_new_session, pass_fds, encoding, errors, text)\u001b[0m\n\u001b[1;32m    852\u001b[0m                             encoding=encoding, errors=errors)\n\u001b[1;32m    853\u001b[0m \u001b[0;34m\u001b[0m\u001b[0m\n\u001b[0;32m--> 854\u001b[0;31m             self._execute_child(args, executable, preexec_fn, close_fds,\n\u001b[0m\u001b[1;32m    855\u001b[0m                                 \u001b[0mpass_fds\u001b[0m\u001b[0;34m,\u001b[0m \u001b[0mcwd\u001b[0m\u001b[0;34m,\u001b[0m \u001b[0menv\u001b[0m\u001b[0;34m,\u001b[0m\u001b[0;34m\u001b[0m\u001b[0;34m\u001b[0m\u001b[0m\n\u001b[1;32m    856\u001b[0m                                 \u001b[0mstartupinfo\u001b[0m\u001b[0;34m,\u001b[0m \u001b[0mcreationflags\u001b[0m\u001b[0;34m,\u001b[0m \u001b[0mshell\u001b[0m\u001b[0;34m,\u001b[0m\u001b[0;34m\u001b[0m\u001b[0;34m\u001b[0m\u001b[0m\n",
      "\u001b[0;32m~/miniconda3/envs/ML-tech-talk/lib/python3.8/subprocess.py\u001b[0m in \u001b[0;36m_execute_child\u001b[0;34m(self, args, executable, preexec_fn, close_fds, pass_fds, cwd, env, startupinfo, creationflags, shell, p2cread, p2cwrite, c2pread, c2pwrite, errread, errwrite, restore_signals, start_new_session)\u001b[0m\n\u001b[1;32m   1700\u001b[0m                     \u001b[0;32mif\u001b[0m \u001b[0merrno_num\u001b[0m \u001b[0;34m!=\u001b[0m \u001b[0;36m0\u001b[0m\u001b[0;34m:\u001b[0m\u001b[0;34m\u001b[0m\u001b[0;34m\u001b[0m\u001b[0m\n\u001b[1;32m   1701\u001b[0m                         \u001b[0merr_msg\u001b[0m \u001b[0;34m=\u001b[0m \u001b[0mos\u001b[0m\u001b[0;34m.\u001b[0m\u001b[0mstrerror\u001b[0m\u001b[0;34m(\u001b[0m\u001b[0merrno_num\u001b[0m\u001b[0;34m)\u001b[0m\u001b[0;34m\u001b[0m\u001b[0;34m\u001b[0m\u001b[0m\n\u001b[0;32m-> 1702\u001b[0;31m                     \u001b[0;32mraise\u001b[0m \u001b[0mchild_exception_type\u001b[0m\u001b[0;34m(\u001b[0m\u001b[0merrno_num\u001b[0m\u001b[0;34m,\u001b[0m \u001b[0merr_msg\u001b[0m\u001b[0;34m,\u001b[0m \u001b[0merr_filename\u001b[0m\u001b[0;34m)\u001b[0m\u001b[0;34m\u001b[0m\u001b[0;34m\u001b[0m\u001b[0m\n\u001b[0m\u001b[1;32m   1703\u001b[0m                 \u001b[0;32mraise\u001b[0m \u001b[0mchild_exception_type\u001b[0m\u001b[0;34m(\u001b[0m\u001b[0merr_msg\u001b[0m\u001b[0;34m)\u001b[0m\u001b[0;34m\u001b[0m\u001b[0;34m\u001b[0m\u001b[0m\n\u001b[1;32m   1704\u001b[0m \u001b[0;34m\u001b[0m\u001b[0m\n",
      "\u001b[0;31mFileNotFoundError\u001b[0m: [Errno 2] No such file or directory: 'convert'"
     ]
    }
   ],
   "source": [
    "\n",
    "%%tikz\n",
    "\\draw (0,0) rectangle (1,1);\n",
    "\\filldraw (0.5,0.5) circle (.1);\n"
   ]
  },
  {
   "cell_type": "code",
   "execution_count": null,
   "metadata": {},
   "outputs": [],
   "source": [
    "Latex('''\n",
    "\\\\begin{figure}[htbp] \n",
    "\\centering \n",
    "{\n",
    "\\\\begin{subfigure}[t]{.9\\\\textwidth}\n",
    "    \\\\centering\n",
    "    \\\\includegraphics[width=.9\\\\textwidth]{Figures/neuron.jpg}\n",
    "    \\\\caption{Anatomy of a biological neuron showing synaptic connections, where it is hypothesized that memory is stored. Nerve impulses received from these synapses propagates through the neuron to the synaptic end terminals. Image is from Figure 12.22 in Anatomy \\\\& Physiology.}\n",
    "\\end{subfigure}\\\\\n",
    "\n",
    "}\n",
    "\\\\caption{Illustrated comparison between a biological neuron and an artificial neuron.}\n",
    "\\\\label{fig:neuron} \n",
    "\\\\end{figure}\n",
    "''')"
   ]
  },
  {
   "cell_type": "code",
   "execution_count": null,
   "metadata": {},
   "outputs": [],
   "source": [
    "np.random.seed(0)\n",
    "normal =  np.random.rand(2)\n",
    "bias =  -np.random.rand(1)\n",
    "weights = np.append(normal, bias)\n",
    "print(weights)\n",
    "fig = plt.figure(figsize=(8, 8))\n",
    "ax = fig.gca()\n",
    "plot_classification(weights)\n",
    "\n",
    "sample_index = 2\n",
    "sample = data[sample_index][0].astype(int)\n",
    "\n",
    "plt.quiver(0, 0, sample[0], sample[1], color='r', angles='xy', scale_units='xy', scale=1)\n",
    "projected_sample_distance = np.asscalar(normal.T @ sample)\n",
    "projected_sample = projected_sample_distance * np.sqrt(2)* normal\n",
    "plt.text(sample[0]/2, sample[1]/2-.05, r\"sample $\\mathbf{x_%s} = (%s, %s)^T$\"%(sample_index, sample[0], sample[1]), color='red', fontsize=12)\n",
    "\n",
    "#s_1 = weights.T * \n",
    "print(sample)\n",
    "print(np.append(sample, 1))\n",
    "print(sum(weights * np.append(sample, 1)))\n",
    "\n",
    "Latex('''\n",
    "How to choose weights? Could sample these random, e.g.  $\\\\mathbf{w} = \\\\begin{pmatrix} %s \\\\\\ %s \\\\\\ %s\\\\end{pmatrix}.$\n",
    "This will incorrectly classify sample \n",
    "\n",
    "\\\\begin{align}\n",
    "\\\\mathbf{x_1} &= \\\\begin{pmatrix} 1\\\\\\ 0\\\\end{pmatrix} \\\\\\ \n",
    "\\\\implies \n",
    "y_1 &= a\\\\left(\\\\underbrace{\\\\begin{pmatrix}%s & %s & %s\\\\end{pmatrix} \\\\begin{pmatrix} 1 \\\\\\ 0 \\\\\\ 1 \\\\end{pmatrix}}_{0.11}\\\\right) \\\\\\ \n",
    "&= 1 \n",
    "\\\\end{align} \n",
    "that is $true$, while its target $z_1 = false$.\n",
    "'''%tuple(np.round(np.tile(weights, 2), 2)))\n"
   ]
  },
  {
   "cell_type": "code",
   "execution_count": null,
   "metadata": {},
   "outputs": [],
   "source": [
    "w = np.array([2, 2])\n",
    "Latex('''\n",
    "Let quantify what it means to be wrong, using e.g. squared error as a loss function\n",
    "\n",
    "\\\\begin{equation}\n",
    "    \\\\mathcal{L} =  \\\\left(y_i - z_i\\\\right)^2 %s %s %s %s\n",
    "\\\\end{equation}\n",
    "'''%tuple([w[:]]))"
   ]
  }
 ],
 "metadata": {
  "celltoolbar": "Slideshow",
  "kernelspec": {
   "display_name": "Python 3",
   "language": "python",
   "name": "python3"
  },
  "language_info": {
   "codemirror_mode": {
    "name": "ipython",
    "version": 3
   },
   "file_extension": ".py",
   "mimetype": "text/x-python",
   "name": "python",
   "nbconvert_exporter": "python",
   "pygments_lexer": "ipython3",
   "version": "3.8.5"
  },
  "load_extensions": {
   "livereveal/main": true
  },
  "nbext_hide_incompat": true,
  "rise": {
   "enable_chalkboard": true,
   "exclude_input": true,
   "reveal_scroll": true,
   "start_slideshow_at": "selected",
   "theme": "simple",
   "transition": "none",
   "width": "80%"
  }
 },
 "nbformat": 4,
 "nbformat_minor": 2
}
