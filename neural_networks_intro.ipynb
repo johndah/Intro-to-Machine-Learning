{
 "cells": [
  {
   "cell_type": "code",
   "execution_count": 8,
   "metadata": {
    "slideshow": {
     "slide_type": "skip"
    }
   },
   "outputs": [],
   "source": [
    "def hide_code_in_slideshow():   \n",
    "    from IPython import display\n",
    "    import binascii\n",
    "    import os\n",
    "    uid = binascii.hexlify(os.urandom(8)).decode()    \n",
    "    html = \"\"\"<div id=\"%s\"></div>\n",
    "    <script type=\"text/javascript\">\n",
    "        $(function(){\n",
    "            var p = $(\"#%s\");\n",
    "            if (p.length==0) return;\n",
    "            while (!p.hasClass(\"cell\")) {\n",
    "                p=p.parent();\n",
    "                if (p.prop(\"tagName\") ==\"body\") return;\n",
    "            }\n",
    "            var cell = p;\n",
    "            cell.find(\".input\").addClass(\"hide-in-slideshow\")\n",
    "        });\n",
    "    </script>\"\"\" % (uid, uid)\n",
    "    display.display_html(html, raw=True)\n"
   ]
  },
  {
   "cell_type": "markdown",
   "metadata": {
    "cell_style": "center",
    "slideshow": {
     "slide_type": "slide"
    }
   },
   "source": [
    "\n",
    "# Logical AND Problem\n"
   ]
  },
  {
   "cell_type": "code",
   "execution_count": 163,
   "metadata": {
    "scrolled": false,
    "slideshow": {
     "slide_type": "-"
    }
   },
   "outputs": [
    {
     "data": {
      "text/latex": [
       "\n",
       "We have the data\n",
       "\\begin{align}\n",
       "\\mathbf{x_i} &\\in \\left\\{\n",
       "\\begin{pmatrix} false\\\\ false\\end{pmatrix},\n",
       "\\begin{pmatrix} true\\\\ false\\end{pmatrix},\n",
       "\\begin{pmatrix} true\\\\ false\\end{pmatrix},\n",
       "\\begin{pmatrix} true\\\\ true\\end{pmatrix}\n",
       "\\right\\}, \\\\ \n",
       "&= \\left\\{\n",
       "\\begin{pmatrix} 0\\\\ 0\\end{pmatrix},\n",
       "\\begin{pmatrix} 1\\\\ 0\\end{pmatrix},\n",
       "\\begin{pmatrix} 0\\\\ 1\\end{pmatrix},\n",
       "\\begin{pmatrix} 1\\\\ 1\\end{pmatrix}\n",
       "\\right\\} \\\\ \\\\ \n",
       "t_i &\\in \\left\\{false, false, false, true\n",
       "\\right\\} \\\\ \n",
       "&= \\left\\{0, 0, 0, 1\\right\\}.\n",
       "\\end{align}\n",
       "where $\\mathbf{x_i}$ is an input sample and $z_i$ is the corresponding output target.\n"
      ],
      "text/plain": [
       "<IPython.core.display.Latex object>"
      ]
     },
     "execution_count": 163,
     "metadata": {},
     "output_type": "execute_result"
    },
    {
     "data": {
      "image/png": "[encoded data removed]",
      "text/plain": [
       "<Figure size 576x576 with 1 Axes>"
      ]
     },
     "metadata": {
      "needs_background": "dark"
     },
     "output_type": "display_data"
    }
   ],
   "source": [
    "from IPython.display import Latex, HTML, Markdown\n",
    "import matplotlib.pyplot as plt\n",
    "from matplotlib.ticker import MaxNLocator\n",
    "import numpy as np\n",
    "%matplotlib inline\n",
    "\n",
    "data = [(np.array([False, False]), False),\n",
    "        (np.array([True, False]), False),\n",
    "        (np.array([False, True]), False),\n",
    "        (np.array([True, True]), True)]\n",
    "\n",
    "\n",
    "fig = plt.figure(figsize=(8, 8))\n",
    "ax = fig.gca()\n",
    "\n",
    "def plot_problem():\n",
    "    for sample in data:\n",
    "        sample_input = sample[0].astype(int)\n",
    "        ground_truth = sample[1]\n",
    "\n",
    "        if ground_truth: # If output is True\n",
    "            sample_marker = 'o'\n",
    "            sample_color = 'green'\n",
    "        else:\n",
    "            sample_marker = 's'\n",
    "            sample_color = 'red'\n",
    "\n",
    "        plt.plot(sample_input[0],\n",
    "                sample_input[1],\n",
    "                sample_marker,\n",
    "                color=sample_color,\n",
    "                markersize=10,\n",
    "                label=ground_truth)\n",
    "    plt.axis('equal')\n",
    "    limits = [-.25, 1.25, -.25, 1.25]\n",
    "   \n",
    "    plt.grid()\n",
    "    plt.xlabel(r'$x_1$')\n",
    "    plt.ylabel(r'$x_2$')\n",
    "    handles, labels = ax.get_legend_handles_labels()\n",
    "    legends = [(h, l) for i, (h, l) in enumerate(zip(handles, labels)) if l not in labels[:i]]\n",
    "    ax.legend(*zip(*legends))\n",
    "    plt.title('Logical AND')\n",
    "\n",
    "    ticks = np.arange(limits[0], 2*limits[1], .25)\n",
    "    tick_labels = [str(tick) for tick in ticks]\n",
    "    tick_labels[np.where(ticks == 0)[0][0]] += '\\n(False)'\n",
    "    tick_labels[np.where(ticks == 1)[0][0]] += '\\n(True)'\n",
    "    ax.set_yticks(ticks)\n",
    "    ax.set_yticklabels(tick_labels)\n",
    "    ax.set_xticks(ticks)\n",
    "    ax.set_xticklabels(tick_labels)\n",
    "    plt.axis(limits)\n",
    "\n",
    "    label_color = 'white'\n",
    "    ax.set_title(ax.get_title(), color=label_color)\n",
    "    \n",
    "    [ax.spines[spine].set_color(label_color) for spine in ax.spines]\n",
    "    ax.xaxis.label.set_color(label_color)\n",
    "    ax.yaxis.label.set_color(label_color)\n",
    "    ax.tick_params(axis='x', colors=label_color)\n",
    "    ax.tick_params(axis='y', colors=label_color)\n",
    "\n",
    "\n",
    "    return legends\n",
    "\n",
    "\n",
    "plot_problem()\n",
    "\n",
    "Latex('''\n",
    "We have the data\n",
    "\\\\begin{align}\n",
    "\\\\mathbf{x_i} &\\in \\\\left\\\\{\n",
    "\\\\begin{pmatrix} false\\\\\\ false\\\\end{pmatrix},\n",
    "\\\\begin{pmatrix} true\\\\\\ false\\\\end{pmatrix},\n",
    "\\\\begin{pmatrix} true\\\\\\ false\\\\end{pmatrix},\n",
    "\\\\begin{pmatrix} true\\\\\\ true\\\\end{pmatrix}\n",
    "\\\\right\\\\}, \\\\\\ \n",
    "&= \\\\left\\\\{\n",
    "\\\\begin{pmatrix} 0\\\\\\ 0\\\\end{pmatrix},\n",
    "\\\\begin{pmatrix} 1\\\\\\ 0\\\\end{pmatrix},\n",
    "\\\\begin{pmatrix} 0\\\\\\ 1\\\\end{pmatrix},\n",
    "\\\\begin{pmatrix} 1\\\\\\ 1\\\\end{pmatrix}\n",
    "\\\\right\\\\} \\\\\\ \\\\\\ \n",
    "t_i &\\in \\\\left\\\\{false, false, false, true\n",
    "\\\\right\\\\} \\\\\\ \n",
    "&= \\\\left\\\\{0, 0, 0, 1\\\\right\\\\}.\n",
    "\\\\end{align}\n",
    "where $\\\\mathbf{x_i}$ is an input sample and $z_i$ is the corresponding output target.\n",
    "''')\n"
   ]
  },
  {
   "cell_type": "markdown",
   "metadata": {
    "scrolled": false,
    "slideshow": {
     "slide_type": "slide"
    }
   },
   "source": [
    "# Solving the problem geometrically"
   ]
  },
  {
   "cell_type": "code",
   "execution_count": 192,
   "metadata": {
    "scrolled": false,
    "slideshow": {
     "slide_type": "-"
    }
   },
   "outputs": [
    {
     "data": {
      "text/latex": [
       "\n",
       "To solve the problem geomerically, lets define a classification line with some normal respectively bias\n",
       "\\begin{align*}\n",
       "\\mathbf{w_{n}} &= \\begin{pmatrix} 0.5 \\\\ 0.5 \\end{pmatrix},\\\\ \n",
       "w_b &= 1.\n",
       "\\end{align*}\n"
      ],
      "text/plain": [
       "<IPython.core.display.Latex object>"
      ]
     },
     "execution_count": 192,
     "metadata": {},
     "output_type": "execute_result"
    },
    {
     "data": {
      "image/png": "[encoded data removed]",
      "text/plain": [
       "<Figure size 576x576 with 1 Axes>"
      ]
     },
     "metadata": {
      "needs_background": "dark"
     },
     "output_type": "display_data"
    }
   ],
   "source": [
    "\n",
    "fig = plt.figure(figsize=(8, 8))\n",
    "ax = fig.gca()\n",
    "\n",
    "\n",
    "def plot_classification(weights):\n",
    "    \n",
    "    normal = np.atleast_2d(weights[:2]).T\n",
    "    #bias = -weights[-1]/np.linalg.norm(normal)\n",
    "    bias = weights[-1]\n",
    "    legends = plot_problem()\n",
    "    \n",
    "    bias_vec = bias * normal / np.linalg.norm(normal)\n",
    "    plt.quiver(bias_vec[0], bias_vec[1], normal[0], normal[1], color='b', angles='xy', scale_units='xy', scale=1)\n",
    "    plt.text(bias_vec[0]+.1, bias_vec[1]-.03, r\"normal $\\mathbf{w_{n}} = (%s, %s)^T$\"%(np.round(normal[0][0], 2), np.round(normal[1][0], 2)), color='b', fontsize=12)\n",
    "\n",
    "    plt.quiver(0, 0, bias_vec[0], bias_vec[1], color='orange', angles='xy', scale_units='xy', scale=1, width=.006)\n",
    "    plt.quiver(bias_vec[0], bias_vec[1], -bias_vec[0], -bias_vec[1], angles='xy', scale_units='xy', scale=1, color='orange', width=.006)\n",
    "    plt.text(bias_vec[0]/2+.05, bias_vec[1]/2-.03, r\"bias $w_b = %s$\"%(np.round(bias, 2)), color='orange', fontsize=12)\n",
    "\n",
    "    # Parameterization\n",
    "    x_lim = 2*(normal[0]/normal[1] + bias)\n",
    "    t = np.arange(-x_lim, x_lim, 1)\n",
    "    line_direction = np.array([normal[1], -normal[0]])\n",
    "    classification_line = line_direction * t + bias_vec \n",
    "    classification_plot = plt.plot(classification_line[0], classification_line[1], linewidth=2.5)\n",
    "    plt.fill_between(classification_line[0], classification_line[1], np.max(classification_line[1]), alpha=.3,)\n",
    "\n",
    "    legends.append((classification_plot[0], 'Classification line'))\n",
    "    plt.legend(*zip(*legends))\n",
    "    plt.axis([-.25, 1.6, -.25, 1.6])\n",
    "    \n",
    "w_b = 1.\n",
    "normal = np.atleast_2d([.5, .5]).T\n",
    "\n",
    "# w_3 = -bias*np.linalg.norm(normal)\n",
    "weights = np.append(normal, w_b)\n",
    "\n",
    "\n",
    "plot_classification(weights)\n",
    "\n",
    "Latex('''\n",
    "To solve the problem geomerically, lets define a classification line with some normal respectively bias\n",
    "\\\\begin{align*}\n",
    "\\\\mathbf{w_{n}} &= \\\\begin{pmatrix} %s \\\\\\ %s \\\\end{pmatrix},\\\\\\ \n",
    "w_b &= %d.\n",
    "\\\\end{align*}\n",
    "'''%(normal[0][0], normal[1][0], w_b))"
   ]
  },
  {
   "cell_type": "code",
   "execution_count": 48,
   "metadata": {
    "slideshow": {
     "slide_type": "skip"
    }
   },
   "outputs": [
    {
     "data": {
      "application/javascript": [
       "MathJax.Hub.Config({\n",
       "    TeX: { equationNumbers: { autoNumber: \"AMS\" } }\n",
       "});\n",
       "MathJax.Hub.Queue(\n",
       "    [\"resetEquationNumbers\", MathJax.InputJax.TeX],\n",
       "    [\"PreProcess\", MathJax.Hub],\n",
       "    [\"Reprocess\", MathJax.Hub]\n",
       ");\n"
      ],
      "text/plain": [
       "<IPython.core.display.Javascript object>"
      ]
     },
     "metadata": {},
     "output_type": "display_data"
    }
   ],
   "source": [
    "%%javascript\n",
    "MathJax.Hub.Config({\n",
    "    TeX: { equationNumbers: { autoNumber: \"AMS\" } }\n",
    "});\n",
    "MathJax.Hub.Queue(\n",
    "    [\"resetEquationNumbers\", MathJax.InputJax.TeX],\n",
    "    [\"PreProcess\", MathJax.Hub],\n",
    "    [\"Reprocess\", MathJax.Hub]\n",
    ");"
   ]
  },
  {
   "cell_type": "code",
   "execution_count": 207,
   "metadata": {
    "cell_style": "center",
    "scrolled": true,
    "slideshow": {
     "slide_type": "subslide"
    }
   },
   "outputs": [
    {
     "data": {
      "text/latex": [
       "\n",
       "Consider some sample e.g. $\\mathbf{x_2}$ \n",
       "\n",
       "Projecting it onto $\\frac{\\mathbf{w_{n}}}{||\\mathbf{w_{n}}||}$, and subtracting with the bias $w_b$, gives weighted sum\n",
       "\n",
       "\\begin{align}\n",
       "s_2 &= \\frac{1}{||\\mathbf{w_{n}}||}\\mathbf{w_{n}^T} \\mathbf{x_2} - w_b \\\\ \n",
       "&= \\frac{1}{\\sqrt{w_1^2 + w_2^2}} \\begin{pmatrix} w_1 & w_2\\end{pmatrix} \\begin{pmatrix} x_1\\\\ x_2\\end{pmatrix} - w_b\\\\ \n",
       "&= \\underbrace{1.41 \\cdot \\begin{pmatrix} 0.5 & 0.5 \\end{pmatrix} \\begin{pmatrix} 0 \\\\ 1 \\end{pmatrix}}_{0.71} - 1 \\\\ \n",
       "&= -0.29\n",
       "\\end{align}\n",
       "\n",
       "that is, the distance to the classification line. Finally, let the prediction\n",
       "\n",
       "\\begin{equation}\n",
       "y = a(s) = \\begin{cases} 1, \\text{ if } s \\geq 0,\\\\ 0 \\text{ otherwise}\n",
       "\\end{cases}\n",
       "\\end{equation}\n",
       "\n",
       "determine the classification. Sample $\\mathbf{x_2}$ would thus be predicted as\n",
       "\\begin{equation}\n",
       "y_2 = a(s_2) = \\left\\{s_2 = -0.29 \\ngeq 0 \\right\\} = 0, \n",
       "\\end{equation}\n",
       "that is $false$, as expected.\n"
      ],
      "text/plain": [
       "<IPython.core.display.Latex object>"
      ]
     },
     "execution_count": 207,
     "metadata": {},
     "output_type": "execute_result"
    },
    {
     "data": {
      "image/png": "[encoded data removed]",
      "text/plain": [
       "<Figure size 720x720 with 1 Axes>"
      ]
     },
     "metadata": {
      "needs_background": "dark"
     },
     "output_type": "display_data"
    }
   ],
   "source": [
    "fig = plt.figure(figsize=(10, 10))\n",
    "ax = fig.gca()\n",
    "\n",
    "\n",
    "plot_classification(weights)\n",
    "\n",
    "\n",
    "sample_index = 2\n",
    "sample = data[sample_index][0].astype(int)\n",
    "\n",
    "normalization_factor = 1 / np.linalg.norm(normal)\n",
    "projected_sample_distance = (normal.T @ sample)[0] * normalization_factor\n",
    "weighted_sum = projected_sample_distance - bias\n",
    "\n",
    "plt.quiver(0, 0, sample[0], sample[1], color='r', angles='xy', scale_units='xy', scale=1)\n",
    "# projected_sample_distance = normal.T @ sample\n",
    "projected_sample = projected_sample_distance * np.sqrt(2)* normal\n",
    "plt.text(sample[0]/2, sample[1]/2, r\"sample $\\mathbf{x_%s} = (%s, %s)^T$\"%(sample_index, sample[0], sample[1]), color='red', fontsize=12)\n",
    "\n",
    "plt.quiver(0, 0, projected_sample[0], projected_sample[1], color='purple', angles='xy', scale_units='xy', scale=1,width=.006)\n",
    "plt.quiver(projected_sample[0], projected_sample[1], -projected_sample[0], -projected_sample[1], color='purple', angles='xy', scale_units='xy', scale=1, width=.006)\n",
    "plt.text(projected_sample[0]/2+.05, projected_sample[1]/2-.1, r\"projected sample distance\"'\\n'\n",
    "\"$\\mathbf{w_{n}^T} \\mathbf{x_2} = %s$\"%np.round(projected_sample_distance, 2), color='purple', fontsize=12)\n",
    "\n",
    "\n",
    "Latex('''\n",
    "Consider some sample e.g. $\\\\mathbf{x_2}$ \n",
    "\n",
    "Projecting it onto $\\\\frac{\\mathbf{w_{n}}}{||\\\\mathbf{w_{n}}||}$, and subtracting with the bias $w_b$, gives weighted sum\n",
    "\n",
    "\\\\begin{align}\n",
    "s_2 &= \\\\frac{1}{||\\\\mathbf{w_{n}}||}\\mathbf{w_{n}^T} \\\\mathbf{x_2} - w_b \\\\\\ \n",
    "&= \\\\frac{1}{\\\\sqrt{w_1^2 + w_2^2}} \\\\begin{pmatrix} w_1 & w_2\\\\end{pmatrix} \\\\begin{pmatrix} x_1\\\\\\ x_2\\\\end{pmatrix} - w_b\\\\\\ \n",
    "&= \\\\underbrace{%s \\cdot \\\\begin{pmatrix} 0.5 & 0.5 \\\\end{pmatrix} \\\\begin{pmatrix} 0 \\\\\\ 1 \\\\end{pmatrix}}_{%s} - 1 \\\\\\ \n",
    "&= %s\n",
    "\\\\end{align}\n",
    "\n",
    "that is, the distance to the classification line. Finally, let the prediction\n",
    "\n",
    "\\\\begin{equation}\n",
    "y = a(s) = \\\\begin{cases} 1, \\\\text{ if } s \\\\geq 0,\\\\\\ 0 \\\\text{ otherwise}\n",
    "\\\\end{cases}\n",
    "\\\\end{equation}\n",
    "\n",
    "determine the classification. Sample $\\\\mathbf{x_2}$ would thus be predicted as\n",
    "\\\\begin{equation}\n",
    "y_2 = a(s_2) = \\\\left\\\\{s_2 = %s \\\\ngeq 0 \\\\right\\\\} = 0, \n",
    "\\\\end{equation}\n",
    "that is $false$, as expected.\n",
    "'''%tuple(np.round(np.array([normalization_factor, projected_sample_distance, weighted_sum, weighted_sum]), 2))\n",
    ")\n"
   ]
  },
  {
   "cell_type": "code",
   "execution_count": 208,
   "metadata": {
    "cell_style": "center",
    "slideshow": {
     "slide_type": "subslide"
    }
   },
   "outputs": [
    {
     "data": {
      "text/latex": [
       "\n",
       "Lets instead classify sample $\\mathbf{x_3} = \\begin{pmatrix} 1\\\\ 1\\end{pmatrix}.$\n",
       "The weighted sum\n",
       "\n",
       "\\begin{align}\n",
       "s_3 &= \\frac{1}{||\\mathbf{w_{n}}||} \\mathbf{w_{n}^T} \\mathbf{x_3} - w_b \n",
       "= \\underbrace{1.41 \\cdot \\begin{pmatrix} 0.5 & 0.5 \\end{pmatrix} \\begin{pmatrix} 1 \\\\ 1 \\end{pmatrix}}_{1.41} - 1 \\\\ \n",
       "&= 0.41 \\geq 0 \\\\ \n",
       "\\implies\n",
       "y_3 &= 1\n",
       "\\end{align} \n",
       "that is $true$, also as expected.\n"
      ],
      "text/plain": [
       "<IPython.core.display.Latex object>"
      ]
     },
     "execution_count": 208,
     "metadata": {},
     "output_type": "execute_result"
    }
   ],
   "source": [
    "sample_index = 3\n",
    "sample = data[sample_index][0].astype(int)\n",
    "projected_sample_distance = (normal.T @ sample)[0] * normalization_factor\n",
    "weighted_sum = projected_sample_distance - bias\n",
    "\n",
    "Latex('''\n",
    "Lets instead classify sample $\\\\mathbf{x_3} = \\\\begin{pmatrix} 1\\\\\\ 1\\\\end{pmatrix}.$\n",
    "The weighted sum\n",
    "\n",
    "\\\\begin{align}\n",
    "s_3 &= \\\\frac{1}{||\\\\mathbf{w_{n}}||} \\\\mathbf{w_{n}^T} \\\\mathbf{x_3} - w_b \n",
    "= \\\\underbrace{%s \\cdot \\\\begin{pmatrix} 0.5 & 0.5 \\\\end{pmatrix} \\\\begin{pmatrix} 1 \\\\\\ 1 \\\\end{pmatrix}}_{%s} - 1 \\\\\\ \n",
    "&= %s \\\\geq 0 \\\\\\ \n",
    "\\\\implies\n",
    "y_3 &= 1\n",
    "\\\\end{align} \n",
    "that is $true$, also as expected.\n",
    "'''%tuple(np.round(np.array([normalization_factor, projected_sample_distance, weighted_sum]), 2))\n",
    ")\n"
   ]
  },
  {
   "cell_type": "markdown",
   "metadata": {
    "slideshow": {
     "slide_type": "slide"
    }
   },
   "source": [
    "# Bringing in Neural Networks"
   ]
  },
  {
   "cell_type": "code",
   "execution_count": 385,
   "metadata": {
    "slideshow": {
     "slide_type": "-"
    }
   },
   "outputs": [
    {
     "data": {
      "text/markdown": [
       "\n",
       "<img src=\"Figures/neuron.jpg\" alt=\"fishy\" class=\"bg-primary mb-1\" width=\"400px\">\n",
       "\n",
       "Figure is from Figure 12.22 in Anatomy & Physiology. (Leeah Whittier, 2019)\n"
      ],
      "text/plain": [
       "<IPython.core.display.Markdown object>"
      ]
     },
     "execution_count": 385,
     "metadata": {},
     "output_type": "execute_result"
    }
   ],
   "source": [
    "Markdown('''\n",
    "<img src=\"Figures/neuron.jpg\" alt=\"fishy\" class=\"bg-primary mb-1\" width=\"400px\">\n",
    "\n",
    "Figure is from Figure 12.22 in Anatomy & Physiology. (Leeah Whittier, 2019)\n",
    "''')"
   ]
  },
  {
   "cell_type": "code",
   "execution_count": 384,
   "metadata": {
    "scrolled": false,
    "slideshow": {
     "slide_type": "-"
    }
   },
   "outputs": [
    {
     "data": {
      "image/png": "[encoded data removed]",
      "text/plain": [
       "<Figure size 648x432 with 1 Axes>"
      ]
     },
     "metadata": {},
     "output_type": "display_data"
    },
    {
     "data": {
      "text/latex": [
       "\n",
       "Lets simplify by collecting all parameters in weight $\\mathbf{w}$ and rewriting weighted sum \n",
       "\\begin{align}\n",
       "s &= \\frac{1}{||\\mathbf{w_{n}}||}\\mathbf{w_{n}^T} \\mathbf{x'} - w_b' \\\\ \n",
       "&\\sim \\mathbf{w_{n}^T} \\mathbf{x'} - w_b \\\\ \n",
       "&= \\begin{pmatrix} w_1 & w_2 & \\ldots & w_n \\end{pmatrix} \\begin{pmatrix} x_1\\\\ x_2 \\\\ \\vdots \\\\ x_n \\end{pmatrix} - w_b\\\\ \n",
       "&= \\begin{pmatrix} w_1 & w_2 & \\ldots & w_n & w_b \\end{pmatrix} \\begin{pmatrix} x_1\\\\ x_2 \\\\ \\vdots \\\\ x_n \\\\ 1 \\end{pmatrix}\\\\ \n",
       "&= \\mathbf{w^T} \\mathbf{x} \n",
       "\\end{align}\n"
      ],
      "text/plain": [
       "<IPython.core.display.Latex object>"
      ]
     },
     "execution_count": 384,
     "metadata": {},
     "output_type": "execute_result"
    }
   ],
   "source": [
    "import pandas as pd\n",
    "import networkx as nx\n",
    "import matplotlib.pyplot as plt\n",
    "\n",
    "plt.figure(figsize=(9, 6))\n",
    "\n",
    "input_neurons = [r'$x_1$', r'$x_2$', r'$\\vdots$', r'$x_n$', r'$x_b \\equiv1$']\n",
    "output_neurons = [r'$y = a(\\mathbf{w^T x})$']*len(input_neurons)\n",
    "\n",
    "df = pd.DataFrame({'input_neurons': input_neurons,\n",
    "                   'output_neurons': output_neurons})\n",
    "\n",
    "scale = .3\n",
    "pos = {input_neurons[0]: (1, 5*scale),\n",
    "       input_neurons[1]: (1, 4*scale),\n",
    "       input_neurons[2]: (1, 3*scale),\n",
    "       input_neurons[3]: (1, 2*scale),\n",
    "       input_neurons[4]: (1, 1*scale),\n",
    "       output_neurons[0]: (3, 3*scale)}\n",
    "\n",
    "labels = dict(zip(pos.keys(), pos.keys()))\n",
    "\n",
    "G = nx.from_pandas_edgelist(df,\n",
    "                            'input_neurons',\n",
    "                            'output_neurons',\n",
    "                            create_using=nx.DiGraph())\n",
    "\n",
    "G = nx.restricted_view(G, [],  [(input_neurons[2],  output_neurons[0])])\n",
    "nodes = nx.draw_networkx_nodes(G, pos,\n",
    "                               nodelist=G.nodes,\n",
    "                               node_size=1.e4,\n",
    "                               node_shape='o',\n",
    "                               node_color='orange',\n",
    "                               alpha=[0, 1, 0, 0, 0, 0])\n",
    "\n",
    "nx.draw_networkx_labels(G, pos, labels, font_size=18, font_color='black')\n",
    "\n",
    "edges = nx.draw_networkx_edges(G, pos, node_size=1.e4,\n",
    "                               arrowstyle='->',\n",
    "                               edge_color='orange',\n",
    "                               width=4,)\n",
    "\n",
    "nx.draw_networkx_edge_labels(G, pos, bbox=dict(facecolor='none', edgecolor='none'),\n",
    "                             font_size=20,\n",
    "                             font_color='orange',\n",
    "                             verticalalignment='bottom',\n",
    "                             edge_labels={(input_neurons[0], output_neurons[0]): r'$w_1$',\n",
    "                                          (input_neurons[1], output_neurons[1]): r'$w_2$',\n",
    "                                          (input_neurons[2], output_neurons[2]): '',\n",
    "                                          (input_neurons[3], output_neurons[3]): r'$w_n$',\n",
    "                                          (input_neurons[4], output_neurons[4]): r'$w_b$'})\n",
    "\n",
    "plt.xlim(0, 4)\n",
    "plt.ylim(0, 2)\n",
    "plt.axis('off')\n",
    "\n",
    "plt.show()\n",
    "\n",
    "Latex('''\n",
    "Lets simplify by collecting all parameters in weight $\\\\mathbf{w}$ and rewriting weighted sum \n",
    "\\\\begin{align}\n",
    "s &= \\\\frac{1}{||\\\\mathbf{w_{n}}||}\\mathbf{w_{n}^T} \\\\mathbf{x'} - w_b' \\\\\\ \n",
    "&\\\\sim \\mathbf{w_{n}^T} \\\\mathbf{x'} - w_b \\\\\\ \n",
    "&= \\\\begin{pmatrix} w_1 & w_2 & \\ldots & w_n \\\\end{pmatrix} \\\\begin{pmatrix} x_1\\\\\\ x_2 \\\\\\ \\\\vdots \\\\\\ x_n \\\\end{pmatrix} - w_b\\\\\\ \n",
    "&= \\\\begin{pmatrix} w_1 & w_2 & \\ldots & w_n & w_b \\\\end{pmatrix} \\\\begin{pmatrix} x_1\\\\\\ x_2 \\\\\\ \\\\vdots \\\\\\ x_n \\\\\\ 1 \\\\end{pmatrix}\\\\\\ \n",
    "&= \\mathbf{w^T} \\\\mathbf{x} \n",
    "\\\\end{align}\n",
    "''')\n"
   ]
  },
  {
   "cell_type": "code",
   "execution_count": 383,
   "metadata": {},
   "outputs": [
    {
     "data": {
      "image/png": "[encoded data removed]",
      "text/plain": [
       "<Figure size 864x648 with 1 Axes>"
      ]
     },
     "metadata": {},
     "output_type": "display_data"
    }
   ],
   "source": [
    "import pandas as pd\n",
    "import networkx as nx\n",
    "import matplotlib.pyplot as plt\n",
    "\n",
    "plt.figure(figsize=(12, 9))\n",
    "\n",
    "input_neurons = [r'$x_1$', r'$x_2$', r'$x_b \\equiv1$']\n",
    "output_neurons = [r'$y = a(\\mathbf{w^T x})$']*len(input_neurons)\n",
    "\n",
    "df = pd.DataFrame({'input_neurons': input_neurons,\n",
    "                   'output_neurons': output_neurons})\n",
    "\n",
    "pos = {input_neurons[0]: (1, 3),\n",
    "       input_neurons[1]: (1, 2),\n",
    "       input_neurons[2]: (1, 1),\n",
    "       output_neurons[0]: (2, 2.5)}\n",
    "\n",
    "labels = dict(zip(pos.keys(), pos.keys()))\n",
    "\n",
    "G = nx.from_pandas_edgelist(df,\n",
    "                            'input_neurons',\n",
    "                            'output_neurons',\n",
    "                            create_using=nx.DiGraph())\n",
    "\n",
    "nodes = nx.draw_networkx_nodes(G, pos,\n",
    "                               nodelist=G.nodes,\n",
    "                               node_size=1.e4,\n",
    "                               node_shape='o',\n",
    "                               node_color='orange',\n",
    "                               alpha=1.)\n",
    "nx.draw_networkx_labels(G, pos, labels, font_size=18)\n",
    "\n",
    "edges = nx.draw_networkx_edges(G, pos, node_size=1.e4,\n",
    "                               arrowstyle='->',\n",
    "                               edge_color='orange',\n",
    "                               width=4)\n",
    "\n",
    "nx.draw_networkx_edge_labels(G, pos, bbox=dict(facecolor='none', edgecolor='none'),\n",
    "                             font_size=20,\n",
    "                             font_color='orange',\n",
    "                             verticalalignment='bottom',\n",
    "                             edge_labels={(input_neurons[0], output_neurons[0]): r'$w_1$',\n",
    "                                          (input_neurons[1], output_neurons[1]): r'$w_2$',\n",
    "                                          (input_neurons[2], output_neurons[2]): r'$w_b$'})\n",
    "\n",
    "plt.xlim(0, 3)\n",
    "plt.ylim(0, 4)\n",
    "\n",
    "plt.axis('off')\n",
    "plt.show()\n",
    "\n"
   ]
  },
  {
   "cell_type": "code",
   "execution_count": 388,
   "metadata": {},
   "outputs": [
    {
     "name": "stdout",
     "output_type": "stream",
     "text": [
      "[ 0.5488135   0.71518937 -0.60276338]\n",
      "[0 1]\n",
      "[0 1 1]\n",
      "0.1124259903007756\n"
     ]
    },
    {
     "name": "stderr",
     "output_type": "stream",
     "text": [
      "<ipython-input-388-27397e2962b4>:14: DeprecationWarning: np.asscalar(a) is deprecated since NumPy v1.16, use a.item() instead\n",
      "  projected_sample_distance = np.asscalar(normal.T @ sample)\n"
     ]
    },
    {
     "data": {
      "text/latex": [
       "\n",
       "How to choose weights? Could sample these random, e.g.  $\\mathbf{w} = \\begin{pmatrix} 0.55 \\\\ 0.72 \\\\ -0.6\\end{pmatrix}.$\n",
       "This will incorrectly classify sample \n",
       "\n",
       "\\begin{align}\n",
       "\\mathbf{x_1} &= \\begin{pmatrix} 1\\\\ 0\\end{pmatrix} \\\\ \n",
       "\\implies \n",
       "y_1 &= a\\left(\\underbrace{\\begin{pmatrix}0.55 & 0.72 & -0.6\\end{pmatrix} \\begin{pmatrix} 1 \\\\ 0 \\\\ 1 \\end{pmatrix}}_{0.11}\\right) \\\\ \n",
       "&= 1 \n",
       "\\end{align} \n",
       "that is $true$, while its target $z_1 = false$.\n"
      ],
      "text/plain": [
       "<IPython.core.display.Latex object>"
      ]
     },
     "execution_count": 388,
     "metadata": {},
     "output_type": "execute_result"
    },
    {
     "data": {
      "image/png": "[encoded data removed]",
      "text/plain": [
       "<Figure size 576x576 with 1 Axes>"
      ]
     },
     "metadata": {
      "needs_background": "dark"
     },
     "output_type": "display_data"
    }
   ],
   "source": [
    "np.random.seed(0)\n",
    "normal =  np.random.rand(2)\n",
    "bias =  -np.random.rand(1)\n",
    "weights = np.append(normal, bias)\n",
    "print(weights)\n",
    "fig = plt.figure(figsize=(8, 8))\n",
    "ax = fig.gca()\n",
    "plot_classification(weights)\n",
    "\n",
    "sample_index = 2\n",
    "sample = data[sample_index][0].astype(int)\n",
    "\n",
    "plt.quiver(0, 0, sample[0], sample[1], color='r', angles='xy', scale_units='xy', scale=1)\n",
    "projected_sample_distance = np.asscalar(normal.T @ sample)\n",
    "projected_sample = projected_sample_distance * np.sqrt(2)* normal\n",
    "plt.text(sample[0]/2, sample[1]/2-.05, r\"sample $\\mathbf{x_%s} = (%s, %s)^T$\"%(sample_index, sample[0], sample[1]), color='red', fontsize=12)\n",
    "\n",
    "#s_1 = weights.T * \n",
    "print(sample)\n",
    "print(np.append(sample, 1))\n",
    "print(sum(weights * np.append(sample, 1)))\n",
    "\n",
    "Latex('''\n",
    "How to choose weights? Could sample these random, e.g.  $\\\\mathbf{w} = \\\\begin{pmatrix} %s \\\\\\ %s \\\\\\ %s\\\\end{pmatrix}.$\n",
    "This will incorrectly classify sample \n",
    "\n",
    "\\\\begin{align}\n",
    "\\\\mathbf{x_1} &= \\\\begin{pmatrix} 1\\\\\\ 0\\\\end{pmatrix} \\\\\\ \n",
    "\\\\implies \n",
    "y_1 &= a\\\\left(\\\\underbrace{\\\\begin{pmatrix}%s & %s & %s\\\\end{pmatrix} \\\\begin{pmatrix} 1 \\\\\\ 0 \\\\\\ 1 \\\\end{pmatrix}}_{0.11}\\\\right) \\\\\\ \n",
    "&= 1 \n",
    "\\\\end{align} \n",
    "that is $true$, while its target $z_1 = false$.\n",
    "'''%tuple(np.round(np.tile(weights, 2), 2)))\n"
   ]
  },
  {
   "cell_type": "code",
   "execution_count": 389,
   "metadata": {},
   "outputs": [
    {
     "ename": "TypeError",
     "evalue": "not enough arguments for format string",
     "output_type": "error",
     "traceback": [
      "\u001b[0;31m---------------------------------------------------------------------------\u001b[0m",
      "\u001b[0;31mTypeError\u001b[0m                                 Traceback (most recent call last)",
      "\u001b[0;32m<ipython-input-389-317211250cf8>\u001b[0m in \u001b[0;36m<module>\u001b[0;34m\u001b[0m\n\u001b[1;32m      1\u001b[0m \u001b[0mw\u001b[0m \u001b[0;34m=\u001b[0m \u001b[0mnp\u001b[0m\u001b[0;34m.\u001b[0m\u001b[0marray\u001b[0m\u001b[0;34m(\u001b[0m\u001b[0;34m[\u001b[0m\u001b[0;36m2\u001b[0m\u001b[0;34m,\u001b[0m \u001b[0;36m2\u001b[0m\u001b[0;34m]\u001b[0m\u001b[0;34m)\u001b[0m\u001b[0;34m\u001b[0m\u001b[0;34m\u001b[0m\u001b[0m\n\u001b[0;32m----> 2\u001b[0;31m Latex('''\n\u001b[0m\u001b[1;32m      3\u001b[0m \u001b[0mLet\u001b[0m \u001b[0mquantify\u001b[0m \u001b[0mwhat\u001b[0m \u001b[0mit\u001b[0m \u001b[0mmeans\u001b[0m \u001b[0mto\u001b[0m \u001b[0mbe\u001b[0m \u001b[0mwrong\u001b[0m\u001b[0;34m,\u001b[0m \u001b[0musing\u001b[0m \u001b[0me\u001b[0m\u001b[0;34m.\u001b[0m\u001b[0mg\u001b[0m\u001b[0;34m.\u001b[0m \u001b[0msquared\u001b[0m \u001b[0merror\u001b[0m \u001b[0;32mas\u001b[0m \u001b[0ma\u001b[0m \u001b[0mloss\u001b[0m \u001b[0mfunction\u001b[0m\u001b[0;34m\u001b[0m\u001b[0;34m\u001b[0m\u001b[0m\n\u001b[1;32m      4\u001b[0m \u001b[0;34m\u001b[0m\u001b[0m\n\u001b[1;32m      5\u001b[0m \u001b[0;31m\\\u001b[0m\u001b[0;31m\\\u001b[0m\u001b[0mbegin\u001b[0m\u001b[0;34m{\u001b[0m\u001b[0mequation\u001b[0m\u001b[0;34m}\u001b[0m\u001b[0;34m\u001b[0m\u001b[0;34m\u001b[0m\u001b[0m\n",
      "\u001b[0;31mTypeError\u001b[0m: not enough arguments for format string"
     ]
    }
   ],
   "source": [
    "w = np.array([2, 2])\n",
    "Latex('''\n",
    "Let quantify what it means to be wrong, using e.g. squared error as a loss function\n",
    "\n",
    "\\\\begin{equation}\n",
    "    \\\\mathcal{L} =  \\\\left(y_i - z_i\\\\right)^2 %s %s %s %s\n",
    "\\\\end{equation}\n",
    "'''%tuple([w[:]]))"
   ]
  }
 ],
 "metadata": {
  "celltoolbar": "Slideshow",
  "kernelspec": {
   "display_name": "Python 3",
   "language": "python",
   "name": "python3"
  },
  "language_info": {
   "codemirror_mode": {
    "name": "ipython",
    "version": 3
   },
   "file_extension": ".py",
   "mimetype": "text/x-python",
   "name": "python",
   "nbconvert_exporter": "python",
   "pygments_lexer": "ipython3",
   "version": "3.8.5"
  },
  "load_extensions": {
   "livereveal/main": true
  },
  "nbext_hide_incompat": true,
  "rise": {
   "enable_chalkboard": true,
   "exclude_input": true,
   "reveal_scroll": true,
   "start_slideshow_at": "selected",
   "theme": "simple",
   "transition": "none",
   "width": "80%"
  }
 },
 "nbformat": 4,
 "nbformat_minor": 2
}
